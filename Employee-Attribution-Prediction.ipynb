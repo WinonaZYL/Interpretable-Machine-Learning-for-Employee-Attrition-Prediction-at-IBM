{
 "cells": [
  {
   "cell_type": "code",
   "execution_count": 1,
   "id": "eec90831",
   "metadata": {
    "_cell_guid": "b1076dfc-b9ad-4769-8c92-a6c4dae69d19",
    "_uuid": "8f2839f25d086af736a60e9eeb907d3b93b6e0e5",
    "execution": {
     "iopub.execute_input": "2022-12-21T15:37:16.653433Z",
     "iopub.status.busy": "2022-12-21T15:37:16.652644Z",
     "iopub.status.idle": "2022-12-21T15:37:16.669767Z",
     "shell.execute_reply": "2022-12-21T15:37:16.668842Z"
    },
    "papermill": {
     "duration": 0.031432,
     "end_time": "2022-12-21T15:37:16.671973",
     "exception": false,
     "start_time": "2022-12-21T15:37:16.640541",
     "status": "completed"
    },
    "tags": []
   },
   "outputs": [
    {
     "name": "stdout",
     "output_type": "stream",
     "text": [
      "/kaggle/input/ibm-hr-analytics-attrition-dataset/WA_Fn-UseC_-HR-Employee-Attrition.csv\n",
      "/kaggle/input/int303-big-data-analysis-2223-S1/sample_submission.csv\n",
      "/kaggle/input/int303-big-data-analysis-2223-S1/train.csv\n",
      "/kaggle/input/int303-big-data-analysis-2223-S1/test.csv\n"
     ]
    }
   ],
   "source": [
    "# This Python 3 environment comes with many helpful analytics libraries installed\n",
    "# It is defined by the kaggle/python Docker image: https://github.com/kaggle/docker-python\n",
    "# For example, here's several helpful packages to load\n",
    "\n",
    "import numpy as np # linear algebra\n",
    "import pandas as pd # data processing, CSV file I/O (e.g. pd.read_csv)\n",
    "\n",
    "# Input data files are available in the read-only \"../input/\" directory\n",
    "# For example, running this (by clicking run or pressing Shift+Enter) will list all files under the input directory\n",
    "\n",
    "import os\n",
    "for dirname, _, filenames in os.walk('/kaggle/input'):\n",
    "    for filename in filenames:\n",
    "        print(os.path.join(dirname, filename))\n",
    "\n",
    "# You can write up to 20GB to the current directory (/kaggle/working/) that gets preserved as output when you create a version using \"Save & Run All\" \n",
    "# You can also write temporary files to /kaggle/temp/, but they won't be saved outside of the current session"
   ]
  },
  {
   "cell_type": "code",
   "execution_count": 2,
   "id": "c137be96",
   "metadata": {
    "execution": {
     "iopub.execute_input": "2022-12-21T15:37:16.694569Z",
     "iopub.status.busy": "2022-12-21T15:37:16.694006Z",
     "iopub.status.idle": "2022-12-21T15:37:19.174868Z",
     "shell.execute_reply": "2022-12-21T15:37:19.173712Z"
    },
    "papermill": {
     "duration": 2.495499,
     "end_time": "2022-12-21T15:37:19.177127",
     "exception": false,
     "start_time": "2022-12-21T15:37:16.681628",
     "status": "completed"
    },
    "tags": []
   },
   "outputs": [],
   "source": [
    "\n",
    "# Data and stats packages\n",
    "import numpy as np\n",
    "import pandas as pd\n",
    "import plotly.express as px\n",
    "\n",
    "# Visualization packages\n",
    "%matplotlib inline\n",
    "import matplotlib.pyplot as plt\n",
    "import seaborn as sns\n",
    "sns.set()\n",
    "\n",
    "#\n",
    "from sklearn import datasets\n",
    "from sklearn.feature_selection import SelectFromModel\n",
    "\n",
    "#models\n",
    "from sklearn.linear_model import LogisticRegression\n",
    "from sklearn.tree import DecisionTreeClassifier\n",
    "from sklearn.ensemble import RandomForestClassifier\n",
    "#from sklearn.neighbors import KNeighborsclassifier\n",
    "\n",
    "\n",
    "from sklearn.metrics import accuracy_score\n",
    "from sklearn.model_selection import train_test_split\n",
    "from sklearn.preprocessing import StandardScaler\n",
    "from sklearn import preprocessing\n",
    "from sklearn.preprocessing import LabelEncoder\n",
    "\n",
    "\n",
    "\n",
    "\n",
    "\n",
    "# NEW PACKAGES\n",
    "from sklearn.decomposition import PCA\n",
    "from time import time\n",
    "\n",
    "\n",
    "# Other packages\n",
    "pd.set_option('display.max_columns', 50)\n",
    "import warnings\n",
    "warnings.filterwarnings(\"ignore\")"
   ]
  },
  {
   "cell_type": "markdown",
   "id": "bdfd02b6",
   "metadata": {
    "papermill": {
     "duration": 0.009196,
     "end_time": "2022-12-21T15:37:19.196520",
     "exception": false,
     "start_time": "2022-12-21T15:37:19.187324",
     "status": "completed"
    },
    "tags": []
   },
   "source": [
    "#employee satisfaction, income, seniority, and demographics data. \n",
    "based on Filter methods - Eg. Correlation our Mutual Information \n",
    "between each feature and the response variable"
   ]
  },
  {
   "cell_type": "code",
   "execution_count": 3,
   "id": "2e9d4dad",
   "metadata": {
    "execution": {
     "iopub.execute_input": "2022-12-21T15:37:19.216483Z",
     "iopub.status.busy": "2022-12-21T15:37:19.215997Z",
     "iopub.status.idle": "2022-12-21T15:37:19.256138Z",
     "shell.execute_reply": "2022-12-21T15:37:19.255393Z"
    },
    "papermill": {
     "duration": 0.052968,
     "end_time": "2022-12-21T15:37:19.258604",
     "exception": false,
     "start_time": "2022-12-21T15:37:19.205636",
     "status": "completed"
    },
    "tags": []
   },
   "outputs": [],
   "source": [
    "\n",
    "testData = pd.read_csv('/kaggle/input/int303-big-data-analysis-2223-S1/test.csv')\n",
    "trainData = pd.read_csv('/kaggle/input/int303-big-data-analysis-2223-S1/train.csv')\n",
    "\n",
    "trainData2 = pd.read_csv('/kaggle/input/int303-big-data-analysis-2223-S1/train.csv')\n",
    "testData2 = pd.read_csv('/kaggle/input/int303-big-data-analysis-2223-S1/test.csv')\n",
    "#employee satisfaction, income, seniority, and demographics data. \n"
   ]
  },
  {
   "cell_type": "markdown",
   "id": "c0567450",
   "metadata": {
    "papermill": {
     "duration": 0.009195,
     "end_time": "2022-12-21T15:37:19.277550",
     "exception": false,
     "start_time": "2022-12-21T15:37:19.268355",
     "status": "completed"
    },
    "tags": []
   },
   "source": [
    "#  Exploratory Data analysis\n",
    "\n",
    "\n",
    "Explore **global properties**. Use histograms, scatter plots, and aggregation functions to summarize the data.\n",
    "\n"
   ]
  },
  {
   "cell_type": "code",
   "execution_count": 4,
   "id": "8e42b33d",
   "metadata": {
    "execution": {
     "iopub.execute_input": "2022-12-21T15:37:19.298158Z",
     "iopub.status.busy": "2022-12-21T15:37:19.297813Z",
     "iopub.status.idle": "2022-12-21T15:37:19.326333Z",
     "shell.execute_reply": "2022-12-21T15:37:19.325443Z"
    },
    "papermill": {
     "duration": 0.041338,
     "end_time": "2022-12-21T15:37:19.328406",
     "exception": false,
     "start_time": "2022-12-21T15:37:19.287068",
     "status": "completed"
    },
    "tags": []
   },
   "outputs": [
    {
     "data": {
      "text/html": [
       "<div>\n",
       "<style scoped>\n",
       "    .dataframe tbody tr th:only-of-type {\n",
       "        vertical-align: middle;\n",
       "    }\n",
       "\n",
       "    .dataframe tbody tr th {\n",
       "        vertical-align: top;\n",
       "    }\n",
       "\n",
       "    .dataframe thead th {\n",
       "        text-align: right;\n",
       "    }\n",
       "</style>\n",
       "<table border=\"1\" class=\"dataframe\">\n",
       "  <thead>\n",
       "    <tr style=\"text-align: right;\">\n",
       "      <th></th>\n",
       "      <th>Age</th>\n",
       "      <th>Attrition</th>\n",
       "      <th>BusinessTravel</th>\n",
       "      <th>DailyRate</th>\n",
       "      <th>Department</th>\n",
       "      <th>DistanceFromHome</th>\n",
       "      <th>Education</th>\n",
       "      <th>EducationField</th>\n",
       "      <th>EmployeeCount</th>\n",
       "      <th>EmployeeNumber</th>\n",
       "      <th>EnvironmentSatisfaction</th>\n",
       "      <th>Gender</th>\n",
       "      <th>HourlyRate</th>\n",
       "      <th>JobInvolvement</th>\n",
       "      <th>JobLevel</th>\n",
       "      <th>JobRole</th>\n",
       "      <th>JobSatisfaction</th>\n",
       "      <th>MaritalStatus</th>\n",
       "      <th>MonthlyIncome</th>\n",
       "      <th>MonthlyRate</th>\n",
       "      <th>NumCompaniesWorked</th>\n",
       "      <th>Over18</th>\n",
       "      <th>OverTime</th>\n",
       "      <th>PercentSalaryHike</th>\n",
       "      <th>PerformanceRating</th>\n",
       "      <th>RelationshipSatisfaction</th>\n",
       "      <th>StandardHours</th>\n",
       "      <th>StockOptionLevel</th>\n",
       "      <th>TotalWorkingYears</th>\n",
       "      <th>TrainingTimesLastYear</th>\n",
       "      <th>WorkLifeBalance</th>\n",
       "      <th>YearsAtCompany</th>\n",
       "      <th>YearsInCurrentRole</th>\n",
       "      <th>YearsSinceLastPromotion</th>\n",
       "      <th>YearsWithCurrManager</th>\n",
       "    </tr>\n",
       "  </thead>\n",
       "  <tbody>\n",
       "    <tr>\n",
       "      <th>0</th>\n",
       "      <td>41</td>\n",
       "      <td>NaN</td>\n",
       "      <td>Travel_Rarely</td>\n",
       "      <td>1102</td>\n",
       "      <td>Sales</td>\n",
       "      <td>1</td>\n",
       "      <td>2</td>\n",
       "      <td>Life Sciences</td>\n",
       "      <td>1</td>\n",
       "      <td>1</td>\n",
       "      <td>2</td>\n",
       "      <td>Female</td>\n",
       "      <td>94</td>\n",
       "      <td>3</td>\n",
       "      <td>2</td>\n",
       "      <td>Sales Executive</td>\n",
       "      <td>4</td>\n",
       "      <td>Single</td>\n",
       "      <td>5993</td>\n",
       "      <td>19479</td>\n",
       "      <td>8</td>\n",
       "      <td>Y</td>\n",
       "      <td>Yes</td>\n",
       "      <td>11</td>\n",
       "      <td>3</td>\n",
       "      <td>1</td>\n",
       "      <td>80</td>\n",
       "      <td>0</td>\n",
       "      <td>8</td>\n",
       "      <td>0</td>\n",
       "      <td>1</td>\n",
       "      <td>6</td>\n",
       "      <td>4</td>\n",
       "      <td>0</td>\n",
       "      <td>5</td>\n",
       "    </tr>\n",
       "    <tr>\n",
       "      <th>1</th>\n",
       "      <td>37</td>\n",
       "      <td>NaN</td>\n",
       "      <td>Travel_Rarely</td>\n",
       "      <td>1373</td>\n",
       "      <td>Research &amp; Development</td>\n",
       "      <td>2</td>\n",
       "      <td>2</td>\n",
       "      <td>Other</td>\n",
       "      <td>1</td>\n",
       "      <td>3</td>\n",
       "      <td>4</td>\n",
       "      <td>Male</td>\n",
       "      <td>92</td>\n",
       "      <td>2</td>\n",
       "      <td>1</td>\n",
       "      <td>Laboratory Technician</td>\n",
       "      <td>3</td>\n",
       "      <td>Single</td>\n",
       "      <td>2090</td>\n",
       "      <td>2396</td>\n",
       "      <td>6</td>\n",
       "      <td>Y</td>\n",
       "      <td>Yes</td>\n",
       "      <td>15</td>\n",
       "      <td>3</td>\n",
       "      <td>2</td>\n",
       "      <td>80</td>\n",
       "      <td>0</td>\n",
       "      <td>7</td>\n",
       "      <td>3</td>\n",
       "      <td>3</td>\n",
       "      <td>0</td>\n",
       "      <td>0</td>\n",
       "      <td>0</td>\n",
       "      <td>0</td>\n",
       "    </tr>\n",
       "    <tr>\n",
       "      <th>2</th>\n",
       "      <td>29</td>\n",
       "      <td>NaN</td>\n",
       "      <td>Travel_Rarely</td>\n",
       "      <td>153</td>\n",
       "      <td>Research &amp; Development</td>\n",
       "      <td>15</td>\n",
       "      <td>2</td>\n",
       "      <td>Life Sciences</td>\n",
       "      <td>1</td>\n",
       "      <td>12</td>\n",
       "      <td>4</td>\n",
       "      <td>Female</td>\n",
       "      <td>49</td>\n",
       "      <td>2</td>\n",
       "      <td>2</td>\n",
       "      <td>Laboratory Technician</td>\n",
       "      <td>3</td>\n",
       "      <td>Single</td>\n",
       "      <td>4193</td>\n",
       "      <td>12682</td>\n",
       "      <td>0</td>\n",
       "      <td>Y</td>\n",
       "      <td>Yes</td>\n",
       "      <td>12</td>\n",
       "      <td>3</td>\n",
       "      <td>4</td>\n",
       "      <td>80</td>\n",
       "      <td>0</td>\n",
       "      <td>10</td>\n",
       "      <td>3</td>\n",
       "      <td>3</td>\n",
       "      <td>9</td>\n",
       "      <td>5</td>\n",
       "      <td>0</td>\n",
       "      <td>8</td>\n",
       "    </tr>\n",
       "    <tr>\n",
       "      <th>3</th>\n",
       "      <td>34</td>\n",
       "      <td>NaN</td>\n",
       "      <td>Travel_Rarely</td>\n",
       "      <td>1346</td>\n",
       "      <td>Research &amp; Development</td>\n",
       "      <td>19</td>\n",
       "      <td>2</td>\n",
       "      <td>Medical</td>\n",
       "      <td>1</td>\n",
       "      <td>14</td>\n",
       "      <td>2</td>\n",
       "      <td>Male</td>\n",
       "      <td>93</td>\n",
       "      <td>3</td>\n",
       "      <td>1</td>\n",
       "      <td>Laboratory Technician</td>\n",
       "      <td>4</td>\n",
       "      <td>Divorced</td>\n",
       "      <td>2661</td>\n",
       "      <td>8758</td>\n",
       "      <td>0</td>\n",
       "      <td>Y</td>\n",
       "      <td>No</td>\n",
       "      <td>11</td>\n",
       "      <td>3</td>\n",
       "      <td>3</td>\n",
       "      <td>80</td>\n",
       "      <td>1</td>\n",
       "      <td>3</td>\n",
       "      <td>2</td>\n",
       "      <td>3</td>\n",
       "      <td>2</td>\n",
       "      <td>2</td>\n",
       "      <td>1</td>\n",
       "      <td>2</td>\n",
       "    </tr>\n",
       "    <tr>\n",
       "      <th>4</th>\n",
       "      <td>22</td>\n",
       "      <td>NaN</td>\n",
       "      <td>Non-Travel</td>\n",
       "      <td>1123</td>\n",
       "      <td>Research &amp; Development</td>\n",
       "      <td>16</td>\n",
       "      <td>2</td>\n",
       "      <td>Medical</td>\n",
       "      <td>1</td>\n",
       "      <td>18</td>\n",
       "      <td>4</td>\n",
       "      <td>Male</td>\n",
       "      <td>96</td>\n",
       "      <td>4</td>\n",
       "      <td>1</td>\n",
       "      <td>Laboratory Technician</td>\n",
       "      <td>4</td>\n",
       "      <td>Divorced</td>\n",
       "      <td>2935</td>\n",
       "      <td>7324</td>\n",
       "      <td>1</td>\n",
       "      <td>Y</td>\n",
       "      <td>Yes</td>\n",
       "      <td>13</td>\n",
       "      <td>3</td>\n",
       "      <td>2</td>\n",
       "      <td>80</td>\n",
       "      <td>2</td>\n",
       "      <td>1</td>\n",
       "      <td>2</td>\n",
       "      <td>2</td>\n",
       "      <td>1</td>\n",
       "      <td>0</td>\n",
       "      <td>0</td>\n",
       "      <td>0</td>\n",
       "    </tr>\n",
       "  </tbody>\n",
       "</table>\n",
       "</div>"
      ],
      "text/plain": [
       "   Age  Attrition BusinessTravel  DailyRate              Department  \\\n",
       "0   41        NaN  Travel_Rarely       1102                   Sales   \n",
       "1   37        NaN  Travel_Rarely       1373  Research & Development   \n",
       "2   29        NaN  Travel_Rarely        153  Research & Development   \n",
       "3   34        NaN  Travel_Rarely       1346  Research & Development   \n",
       "4   22        NaN     Non-Travel       1123  Research & Development   \n",
       "\n",
       "   DistanceFromHome  Education EducationField  EmployeeCount  EmployeeNumber  \\\n",
       "0                 1          2  Life Sciences              1               1   \n",
       "1                 2          2          Other              1               3   \n",
       "2                15          2  Life Sciences              1              12   \n",
       "3                19          2        Medical              1              14   \n",
       "4                16          2        Medical              1              18   \n",
       "\n",
       "   EnvironmentSatisfaction  Gender  HourlyRate  JobInvolvement  JobLevel  \\\n",
       "0                        2  Female          94               3         2   \n",
       "1                        4    Male          92               2         1   \n",
       "2                        4  Female          49               2         2   \n",
       "3                        2    Male          93               3         1   \n",
       "4                        4    Male          96               4         1   \n",
       "\n",
       "                 JobRole  JobSatisfaction MaritalStatus  MonthlyIncome  \\\n",
       "0        Sales Executive                4        Single           5993   \n",
       "1  Laboratory Technician                3        Single           2090   \n",
       "2  Laboratory Technician                3        Single           4193   \n",
       "3  Laboratory Technician                4      Divorced           2661   \n",
       "4  Laboratory Technician                4      Divorced           2935   \n",
       "\n",
       "   MonthlyRate  NumCompaniesWorked Over18 OverTime  PercentSalaryHike  \\\n",
       "0        19479                   8      Y      Yes                 11   \n",
       "1         2396                   6      Y      Yes                 15   \n",
       "2        12682                   0      Y      Yes                 12   \n",
       "3         8758                   0      Y       No                 11   \n",
       "4         7324                   1      Y      Yes                 13   \n",
       "\n",
       "   PerformanceRating  RelationshipSatisfaction  StandardHours  \\\n",
       "0                  3                         1             80   \n",
       "1                  3                         2             80   \n",
       "2                  3                         4             80   \n",
       "3                  3                         3             80   \n",
       "4                  3                         2             80   \n",
       "\n",
       "   StockOptionLevel  TotalWorkingYears  TrainingTimesLastYear  \\\n",
       "0                 0                  8                      0   \n",
       "1                 0                  7                      3   \n",
       "2                 0                 10                      3   \n",
       "3                 1                  3                      2   \n",
       "4                 2                  1                      2   \n",
       "\n",
       "   WorkLifeBalance  YearsAtCompany  YearsInCurrentRole  \\\n",
       "0                1               6                   4   \n",
       "1                3               0                   0   \n",
       "2                3               9                   5   \n",
       "3                3               2                   2   \n",
       "4                2               1                   0   \n",
       "\n",
       "   YearsSinceLastPromotion  YearsWithCurrManager  \n",
       "0                        0                     5  \n",
       "1                        0                     0  \n",
       "2                        0                     8  \n",
       "3                        1                     2  \n",
       "4                        0                     0  "
      ]
     },
     "execution_count": 4,
     "metadata": {},
     "output_type": "execute_result"
    }
   ],
   "source": [
    "trainData.head()\n",
    "testData.head()"
   ]
  },
  {
   "cell_type": "code",
   "execution_count": 5,
   "id": "9cd2da29",
   "metadata": {
    "execution": {
     "iopub.execute_input": "2022-12-21T15:37:19.349754Z",
     "iopub.status.busy": "2022-12-21T15:37:19.349194Z",
     "iopub.status.idle": "2022-12-21T15:37:19.355131Z",
     "shell.execute_reply": "2022-12-21T15:37:19.353920Z"
    },
    "papermill": {
     "duration": 0.019295,
     "end_time": "2022-12-21T15:37:19.357600",
     "exception": false,
     "start_time": "2022-12-21T15:37:19.338305",
     "status": "completed"
    },
    "tags": []
   },
   "outputs": [
    {
     "data": {
      "text/plain": [
       "(1103, 35)"
      ]
     },
     "execution_count": 5,
     "metadata": {},
     "output_type": "execute_result"
    }
   ],
   "source": [
    "testData.shape\n",
    "trainData.shape"
   ]
  },
  {
   "cell_type": "code",
   "execution_count": 6,
   "id": "f1e54b81",
   "metadata": {
    "execution": {
     "iopub.execute_input": "2022-12-21T15:37:19.379486Z",
     "iopub.status.busy": "2022-12-21T15:37:19.379120Z",
     "iopub.status.idle": "2022-12-21T15:37:19.456920Z",
     "shell.execute_reply": "2022-12-21T15:37:19.456086Z"
    },
    "papermill": {
     "duration": 0.090911,
     "end_time": "2022-12-21T15:37:19.458727",
     "exception": false,
     "start_time": "2022-12-21T15:37:19.367816",
     "status": "completed"
    },
    "tags": []
   },
   "outputs": [
    {
     "data": {
      "text/html": [
       "<div>\n",
       "<style scoped>\n",
       "    .dataframe tbody tr th:only-of-type {\n",
       "        vertical-align: middle;\n",
       "    }\n",
       "\n",
       "    .dataframe tbody tr th {\n",
       "        vertical-align: top;\n",
       "    }\n",
       "\n",
       "    .dataframe thead th {\n",
       "        text-align: right;\n",
       "    }\n",
       "</style>\n",
       "<table border=\"1\" class=\"dataframe\">\n",
       "  <thead>\n",
       "    <tr style=\"text-align: right;\">\n",
       "      <th></th>\n",
       "      <th>Age</th>\n",
       "      <th>DailyRate</th>\n",
       "      <th>DistanceFromHome</th>\n",
       "      <th>Education</th>\n",
       "      <th>EmployeeCount</th>\n",
       "      <th>EmployeeNumber</th>\n",
       "      <th>EnvironmentSatisfaction</th>\n",
       "      <th>HourlyRate</th>\n",
       "      <th>JobInvolvement</th>\n",
       "      <th>JobLevel</th>\n",
       "      <th>JobSatisfaction</th>\n",
       "      <th>MonthlyIncome</th>\n",
       "      <th>MonthlyRate</th>\n",
       "      <th>NumCompaniesWorked</th>\n",
       "      <th>PercentSalaryHike</th>\n",
       "      <th>PerformanceRating</th>\n",
       "      <th>RelationshipSatisfaction</th>\n",
       "      <th>StandardHours</th>\n",
       "      <th>StockOptionLevel</th>\n",
       "      <th>TotalWorkingYears</th>\n",
       "      <th>TrainingTimesLastYear</th>\n",
       "      <th>WorkLifeBalance</th>\n",
       "      <th>YearsAtCompany</th>\n",
       "      <th>YearsInCurrentRole</th>\n",
       "      <th>YearsSinceLastPromotion</th>\n",
       "      <th>YearsWithCurrManager</th>\n",
       "    </tr>\n",
       "  </thead>\n",
       "  <tbody>\n",
       "    <tr>\n",
       "      <th>count</th>\n",
       "      <td>1103.000000</td>\n",
       "      <td>1103.000000</td>\n",
       "      <td>1103.000000</td>\n",
       "      <td>1103.000000</td>\n",
       "      <td>1103.0</td>\n",
       "      <td>1103.000000</td>\n",
       "      <td>1103.000000</td>\n",
       "      <td>1103.000000</td>\n",
       "      <td>1103.000000</td>\n",
       "      <td>1103.000000</td>\n",
       "      <td>1103.000000</td>\n",
       "      <td>1103.000000</td>\n",
       "      <td>1103.000000</td>\n",
       "      <td>1103.000000</td>\n",
       "      <td>1103.000000</td>\n",
       "      <td>1103.000000</td>\n",
       "      <td>1103.000000</td>\n",
       "      <td>1103.0</td>\n",
       "      <td>1103.000000</td>\n",
       "      <td>1103.000000</td>\n",
       "      <td>1103.000000</td>\n",
       "      <td>1103.000000</td>\n",
       "      <td>1103.000000</td>\n",
       "      <td>1103.000000</td>\n",
       "      <td>1103.000000</td>\n",
       "      <td>1103.000000</td>\n",
       "    </tr>\n",
       "    <tr>\n",
       "      <th>mean</th>\n",
       "      <td>36.697189</td>\n",
       "      <td>810.515866</td>\n",
       "      <td>9.296464</td>\n",
       "      <td>2.943790</td>\n",
       "      <td>1.0</td>\n",
       "      <td>742.293744</td>\n",
       "      <td>2.731641</td>\n",
       "      <td>65.805984</td>\n",
       "      <td>2.733454</td>\n",
       "      <td>2.075249</td>\n",
       "      <td>2.718948</td>\n",
       "      <td>6481.290118</td>\n",
       "      <td>14394.726201</td>\n",
       "      <td>2.657298</td>\n",
       "      <td>15.233908</td>\n",
       "      <td>3.153218</td>\n",
       "      <td>2.696283</td>\n",
       "      <td>80.0</td>\n",
       "      <td>0.764279</td>\n",
       "      <td>11.212149</td>\n",
       "      <td>2.792384</td>\n",
       "      <td>2.773345</td>\n",
       "      <td>7.004533</td>\n",
       "      <td>4.223935</td>\n",
       "      <td>2.143246</td>\n",
       "      <td>4.150499</td>\n",
       "    </tr>\n",
       "    <tr>\n",
       "      <th>std</th>\n",
       "      <td>9.075448</td>\n",
       "      <td>405.943336</td>\n",
       "      <td>8.150026</td>\n",
       "      <td>1.012855</td>\n",
       "      <td>0.0</td>\n",
       "      <td>426.965196</td>\n",
       "      <td>1.081341</td>\n",
       "      <td>20.186842</td>\n",
       "      <td>0.710075</td>\n",
       "      <td>1.117731</td>\n",
       "      <td>1.093984</td>\n",
       "      <td>4719.804196</td>\n",
       "      <td>7056.403020</td>\n",
       "      <td>2.462506</td>\n",
       "      <td>3.669620</td>\n",
       "      <td>0.360361</td>\n",
       "      <td>1.073207</td>\n",
       "      <td>0.0</td>\n",
       "      <td>0.830844</td>\n",
       "      <td>7.806784</td>\n",
       "      <td>1.308029</td>\n",
       "      <td>0.702172</td>\n",
       "      <td>6.124760</td>\n",
       "      <td>3.608279</td>\n",
       "      <td>3.203527</td>\n",
       "      <td>3.579410</td>\n",
       "    </tr>\n",
       "    <tr>\n",
       "      <th>min</th>\n",
       "      <td>18.000000</td>\n",
       "      <td>103.000000</td>\n",
       "      <td>1.000000</td>\n",
       "      <td>1.000000</td>\n",
       "      <td>1.0</td>\n",
       "      <td>2.000000</td>\n",
       "      <td>1.000000</td>\n",
       "      <td>30.000000</td>\n",
       "      <td>1.000000</td>\n",
       "      <td>1.000000</td>\n",
       "      <td>1.000000</td>\n",
       "      <td>1051.000000</td>\n",
       "      <td>2094.000000</td>\n",
       "      <td>0.000000</td>\n",
       "      <td>11.000000</td>\n",
       "      <td>3.000000</td>\n",
       "      <td>1.000000</td>\n",
       "      <td>80.0</td>\n",
       "      <td>0.000000</td>\n",
       "      <td>0.000000</td>\n",
       "      <td>0.000000</td>\n",
       "      <td>1.000000</td>\n",
       "      <td>0.000000</td>\n",
       "      <td>0.000000</td>\n",
       "      <td>0.000000</td>\n",
       "      <td>0.000000</td>\n",
       "    </tr>\n",
       "    <tr>\n",
       "      <th>25%</th>\n",
       "      <td>30.000000</td>\n",
       "      <td>467.500000</td>\n",
       "      <td>2.000000</td>\n",
       "      <td>2.000000</td>\n",
       "      <td>1.0</td>\n",
       "      <td>369.500000</td>\n",
       "      <td>2.000000</td>\n",
       "      <td>48.000000</td>\n",
       "      <td>2.000000</td>\n",
       "      <td>1.000000</td>\n",
       "      <td>2.000000</td>\n",
       "      <td>2906.500000</td>\n",
       "      <td>8245.000000</td>\n",
       "      <td>1.000000</td>\n",
       "      <td>12.000000</td>\n",
       "      <td>3.000000</td>\n",
       "      <td>2.000000</td>\n",
       "      <td>80.0</td>\n",
       "      <td>0.000000</td>\n",
       "      <td>6.000000</td>\n",
       "      <td>2.000000</td>\n",
       "      <td>2.000000</td>\n",
       "      <td>3.000000</td>\n",
       "      <td>2.000000</td>\n",
       "      <td>0.000000</td>\n",
       "      <td>2.000000</td>\n",
       "    </tr>\n",
       "    <tr>\n",
       "      <th>50%</th>\n",
       "      <td>35.000000</td>\n",
       "      <td>805.000000</td>\n",
       "      <td>7.000000</td>\n",
       "      <td>3.000000</td>\n",
       "      <td>1.0</td>\n",
       "      <td>740.000000</td>\n",
       "      <td>3.000000</td>\n",
       "      <td>66.000000</td>\n",
       "      <td>3.000000</td>\n",
       "      <td>2.000000</td>\n",
       "      <td>3.000000</td>\n",
       "      <td>4900.000000</td>\n",
       "      <td>14394.000000</td>\n",
       "      <td>2.000000</td>\n",
       "      <td>14.000000</td>\n",
       "      <td>3.000000</td>\n",
       "      <td>3.000000</td>\n",
       "      <td>80.0</td>\n",
       "      <td>1.000000</td>\n",
       "      <td>10.000000</td>\n",
       "      <td>3.000000</td>\n",
       "      <td>3.000000</td>\n",
       "      <td>5.000000</td>\n",
       "      <td>3.000000</td>\n",
       "      <td>1.000000</td>\n",
       "      <td>3.000000</td>\n",
       "    </tr>\n",
       "    <tr>\n",
       "      <th>75%</th>\n",
       "      <td>43.000000</td>\n",
       "      <td>1169.000000</td>\n",
       "      <td>14.000000</td>\n",
       "      <td>4.000000</td>\n",
       "      <td>1.0</td>\n",
       "      <td>1116.500000</td>\n",
       "      <td>4.000000</td>\n",
       "      <td>83.000000</td>\n",
       "      <td>3.000000</td>\n",
       "      <td>3.000000</td>\n",
       "      <td>4.000000</td>\n",
       "      <td>7989.500000</td>\n",
       "      <td>20435.000000</td>\n",
       "      <td>4.000000</td>\n",
       "      <td>18.000000</td>\n",
       "      <td>3.000000</td>\n",
       "      <td>4.000000</td>\n",
       "      <td>80.0</td>\n",
       "      <td>1.000000</td>\n",
       "      <td>15.000000</td>\n",
       "      <td>3.000000</td>\n",
       "      <td>3.000000</td>\n",
       "      <td>10.000000</td>\n",
       "      <td>7.000000</td>\n",
       "      <td>2.000000</td>\n",
       "      <td>7.000000</td>\n",
       "    </tr>\n",
       "    <tr>\n",
       "      <th>max</th>\n",
       "      <td>60.000000</td>\n",
       "      <td>1499.000000</td>\n",
       "      <td>29.000000</td>\n",
       "      <td>5.000000</td>\n",
       "      <td>1.0</td>\n",
       "      <td>1470.000000</td>\n",
       "      <td>4.000000</td>\n",
       "      <td>100.000000</td>\n",
       "      <td>4.000000</td>\n",
       "      <td>5.000000</td>\n",
       "      <td>4.000000</td>\n",
       "      <td>19999.000000</td>\n",
       "      <td>26997.000000</td>\n",
       "      <td>9.000000</td>\n",
       "      <td>25.000000</td>\n",
       "      <td>4.000000</td>\n",
       "      <td>4.000000</td>\n",
       "      <td>80.0</td>\n",
       "      <td>3.000000</td>\n",
       "      <td>40.000000</td>\n",
       "      <td>6.000000</td>\n",
       "      <td>4.000000</td>\n",
       "      <td>37.000000</td>\n",
       "      <td>18.000000</td>\n",
       "      <td>15.000000</td>\n",
       "      <td>17.000000</td>\n",
       "    </tr>\n",
       "  </tbody>\n",
       "</table>\n",
       "</div>"
      ],
      "text/plain": [
       "               Age    DailyRate  DistanceFromHome    Education  EmployeeCount  \\\n",
       "count  1103.000000  1103.000000       1103.000000  1103.000000         1103.0   \n",
       "mean     36.697189   810.515866          9.296464     2.943790            1.0   \n",
       "std       9.075448   405.943336          8.150026     1.012855            0.0   \n",
       "min      18.000000   103.000000          1.000000     1.000000            1.0   \n",
       "25%      30.000000   467.500000          2.000000     2.000000            1.0   \n",
       "50%      35.000000   805.000000          7.000000     3.000000            1.0   \n",
       "75%      43.000000  1169.000000         14.000000     4.000000            1.0   \n",
       "max      60.000000  1499.000000         29.000000     5.000000            1.0   \n",
       "\n",
       "       EmployeeNumber  EnvironmentSatisfaction   HourlyRate  JobInvolvement  \\\n",
       "count     1103.000000              1103.000000  1103.000000     1103.000000   \n",
       "mean       742.293744                 2.731641    65.805984        2.733454   \n",
       "std        426.965196                 1.081341    20.186842        0.710075   \n",
       "min          2.000000                 1.000000    30.000000        1.000000   \n",
       "25%        369.500000                 2.000000    48.000000        2.000000   \n",
       "50%        740.000000                 3.000000    66.000000        3.000000   \n",
       "75%       1116.500000                 4.000000    83.000000        3.000000   \n",
       "max       1470.000000                 4.000000   100.000000        4.000000   \n",
       "\n",
       "          JobLevel  JobSatisfaction  MonthlyIncome   MonthlyRate  \\\n",
       "count  1103.000000      1103.000000    1103.000000   1103.000000   \n",
       "mean      2.075249         2.718948    6481.290118  14394.726201   \n",
       "std       1.117731         1.093984    4719.804196   7056.403020   \n",
       "min       1.000000         1.000000    1051.000000   2094.000000   \n",
       "25%       1.000000         2.000000    2906.500000   8245.000000   \n",
       "50%       2.000000         3.000000    4900.000000  14394.000000   \n",
       "75%       3.000000         4.000000    7989.500000  20435.000000   \n",
       "max       5.000000         4.000000   19999.000000  26997.000000   \n",
       "\n",
       "       NumCompaniesWorked  PercentSalaryHike  PerformanceRating  \\\n",
       "count         1103.000000        1103.000000        1103.000000   \n",
       "mean             2.657298          15.233908           3.153218   \n",
       "std              2.462506           3.669620           0.360361   \n",
       "min              0.000000          11.000000           3.000000   \n",
       "25%              1.000000          12.000000           3.000000   \n",
       "50%              2.000000          14.000000           3.000000   \n",
       "75%              4.000000          18.000000           3.000000   \n",
       "max              9.000000          25.000000           4.000000   \n",
       "\n",
       "       RelationshipSatisfaction  StandardHours  StockOptionLevel  \\\n",
       "count               1103.000000         1103.0       1103.000000   \n",
       "mean                   2.696283           80.0          0.764279   \n",
       "std                    1.073207            0.0          0.830844   \n",
       "min                    1.000000           80.0          0.000000   \n",
       "25%                    2.000000           80.0          0.000000   \n",
       "50%                    3.000000           80.0          1.000000   \n",
       "75%                    4.000000           80.0          1.000000   \n",
       "max                    4.000000           80.0          3.000000   \n",
       "\n",
       "       TotalWorkingYears  TrainingTimesLastYear  WorkLifeBalance  \\\n",
       "count        1103.000000            1103.000000      1103.000000   \n",
       "mean           11.212149               2.792384         2.773345   \n",
       "std             7.806784               1.308029         0.702172   \n",
       "min             0.000000               0.000000         1.000000   \n",
       "25%             6.000000               2.000000         2.000000   \n",
       "50%            10.000000               3.000000         3.000000   \n",
       "75%            15.000000               3.000000         3.000000   \n",
       "max            40.000000               6.000000         4.000000   \n",
       "\n",
       "       YearsAtCompany  YearsInCurrentRole  YearsSinceLastPromotion  \\\n",
       "count     1103.000000         1103.000000              1103.000000   \n",
       "mean         7.004533            4.223935                 2.143246   \n",
       "std          6.124760            3.608279                 3.203527   \n",
       "min          0.000000            0.000000                 0.000000   \n",
       "25%          3.000000            2.000000                 0.000000   \n",
       "50%          5.000000            3.000000                 1.000000   \n",
       "75%         10.000000            7.000000                 2.000000   \n",
       "max         37.000000           18.000000                15.000000   \n",
       "\n",
       "       YearsWithCurrManager  \n",
       "count           1103.000000  \n",
       "mean               4.150499  \n",
       "std                3.579410  \n",
       "min                0.000000  \n",
       "25%                2.000000  \n",
       "50%                3.000000  \n",
       "75%                7.000000  \n",
       "max               17.000000  "
      ]
     },
     "execution_count": 6,
     "metadata": {},
     "output_type": "execute_result"
    }
   ],
   "source": [
    "# find the ranges of all features\n",
    "trainData.describe()"
   ]
  },
  {
   "cell_type": "code",
   "execution_count": 7,
   "id": "45d1cb86",
   "metadata": {
    "execution": {
     "iopub.execute_input": "2022-12-21T15:37:19.480714Z",
     "iopub.status.busy": "2022-12-21T15:37:19.480187Z",
     "iopub.status.idle": "2022-12-21T15:37:20.571292Z",
     "shell.execute_reply": "2022-12-21T15:37:20.570617Z"
    },
    "papermill": {
     "duration": 1.103961,
     "end_time": "2022-12-21T15:37:20.573190",
     "exception": false,
     "start_time": "2022-12-21T15:37:19.469229",
     "status": "completed"
    },
    "tags": []
   },
   "outputs": [
    {
     "data": {
      "text/html": [
       "        <script type=\"text/javascript\">\n",
       "        window.PlotlyConfig = {MathJaxConfig: 'local'};\n",
       "        if (window.MathJax && window.MathJax.Hub && window.MathJax.Hub.Config) {window.MathJax.Hub.Config({SVG: {font: \"STIX-Web\"}});}\n",
       "        if (typeof require !== 'undefined') {\n",
       "        require.undef(\"plotly\");\n",
       "        requirejs.config({\n",
       "            paths: {\n",
       "                'plotly': ['https://cdn.plot.ly/plotly-2.14.0.min']\n",
       "            }\n",
       "        });\n",
       "        require(['plotly'], function(Plotly) {\n",
       "            window._Plotly = Plotly;\n",
       "        });\n",
       "        }\n",
       "        </script>\n",
       "        "
      ]
     },
     "metadata": {},
     "output_type": "display_data"
    },
    {
     "data": {
      "text/html": [
       "<div>                            <div id=\"42f77cc6-0c7e-4601-a72b-eead02c7359c\" class=\"plotly-graph-div\" style=\"height:525px; width:100%;\"></div>            <script type=\"text/javascript\">                require([\"plotly\"], function(Plotly) {                    window.PLOTLYENV=window.PLOTLYENV || {};                                    if (document.getElementById(\"42f77cc6-0c7e-4601-a72b-eead02c7359c\")) {                    Plotly.newPlot(                        \"42f77cc6-0c7e-4601-a72b-eead02c7359c\",                        [{\"coloraxis\":\"coloraxis\",\"name\":\"0\",\"texttemplate\":\"%{z}\",\"x\":[\"Age\",\"DailyRate\",\"DistanceFromHome\",\"Education\",\"EmployeeCount\",\"EmployeeNumber\",\"EnvironmentSatisfaction\",\"HourlyRate\",\"JobInvolvement\",\"JobLevel\",\"JobSatisfaction\",\"MonthlyIncome\",\"MonthlyRate\",\"NumCompaniesWorked\",\"PercentSalaryHike\",\"PerformanceRating\",\"RelationshipSatisfaction\",\"StandardHours\",\"StockOptionLevel\",\"TotalWorkingYears\",\"TrainingTimesLastYear\",\"WorkLifeBalance\",\"YearsAtCompany\",\"YearsInCurrentRole\",\"YearsSinceLastPromotion\",\"YearsWithCurrManager\"],\"y\":[\"Age\",\"DailyRate\",\"DistanceFromHome\",\"Education\",\"EmployeeCount\",\"EmployeeNumber\",\"EnvironmentSatisfaction\",\"HourlyRate\",\"JobInvolvement\",\"JobLevel\",\"JobSatisfaction\",\"MonthlyIncome\",\"MonthlyRate\",\"NumCompaniesWorked\",\"PercentSalaryHike\",\"PerformanceRating\",\"RelationshipSatisfaction\",\"StandardHours\",\"StockOptionLevel\",\"TotalWorkingYears\",\"TrainingTimesLastYear\",\"WorkLifeBalance\",\"YearsAtCompany\",\"YearsInCurrentRole\",\"YearsSinceLastPromotion\",\"YearsWithCurrManager\"],\"z\":[[1.0,0.007064044826746487,-0.00038008981904712197,0.20407550261622975,null,0.006502622524034522,0.014273989066294884,0.008347049988575987,0.03703040380818353,0.527001379190095,-0.0017248064936005506,0.5180533807987473,0.032750329238358446,0.31226958336913385,-0.019315184482447408,-0.01687696583002987,0.03834407600242452,null,0.01724184971167763,0.694980819042386,-0.01974834213819535,-0.022171888676218256,0.3265797615210198,0.23304271428156786,0.23358594274397443,0.2134539721679924],[0.007064044826746487,1.0,0.004516104400728774,-0.027219173603796602,null,-0.06073012416216602,0.008177366012273951,0.024441344677782337,0.04160111024636189,-0.01856301687561712,0.04496164184457017,-0.016415798091589284,-0.057508596182366305,0.03143878267460978,0.019920109587940524,0.010432632827188471,0.04090577882969945,null,0.053880349696540625,0.001262551865934924,-0.006469949685089387,-0.018843440674379874,-0.029835148084429795,0.020579456491345828,-0.0301448741790816,-0.010711419931441687],[-0.00038008981904712197,0.004516104400728774,1.0,0.002790082393063815,null,0.043508047733363045,-0.027723443047316793,0.02022255453208065,-0.006874183053983047,0.011992920212730324,0.01026967077891764,-0.006618403729618306,-0.004610373918276953,-0.002890887494627318,0.050837709392713176,0.03395542812345877,-0.012520662511202586,null,0.05924360324805954,0.011261842764035693,-0.06019061999841015,-0.02773101744987151,0.025278242530168932,0.021192036492981303,0.023431127651953033,0.03268606651012232],[0.20407550261622975,-0.027219173603796602,0.002790082393063815,1.0,null,0.01365442879679387,-0.009642654001384865,-0.024322387604952398,0.035926737209551605,0.09591851098555067,0.003746553399414747,0.09256585743324078,-0.023040275250219663,0.11342365432233681,-0.03479028157128555,-0.038536938361131874,0.025185820118428397,null,-0.0017411650653121774,0.1509298812357059,-0.026625169963697227,-0.005170820612444998,0.08459037323086148,0.07272210755969345,0.06596841967042398,0.09669835202477857],[null,null,null,null,null,null,null,null,null,null,null,null,null,null,null,null,null,null,null,null,null,null,null,null,null,null],[0.006502622524034522,-0.06073012416216602,0.043508047733363045,0.01365442879679387,null,1.0,0.021287757936790854,0.04100438292954431,0.01433505218136329,-0.013503032298900562,-0.047804928723936324,-0.008998355741577126,-0.006399956307915348,0.02543571663708618,-0.025798354086228516,-0.040745573226083666,-0.04886239731821483,null,0.054579182730290096,-0.005836233844154435,0.010134513149031877,-0.005289509654893727,-0.008670452158925352,-0.020148735512099274,-0.013241084300847476,-0.014585692279891599],[0.014273989066294884,0.008177366012273951,-0.027723443047316793,-0.009642654001384865,null,0.021287757936790854,1.0,-0.033399113181583805,0.008393822057133451,0.010716625602816316,-0.002448004504031969,0.007627245240303086,0.03641584780648165,0.013822277923868734,-0.033104996620601304,-0.0271233850315131,0.015716740837920094,null,-0.01997177015285448,0.0049227909818217504,-0.023387632832708984,0.01901468741943427,0.013200232522565587,0.04216157707779825,0.019751636424415568,-0.012766196470941517],[0.008347049988575987,0.024441344677782337,0.02022255453208065,-0.024322387604952398,null,0.04100438292954431,-0.033399113181583805,1.0,0.05792253134071438,-0.03792072926402453,-0.04845140745441007,-0.02553811978213767,-0.01410549422760214,0.029091682554607055,0.021229589891902448,0.018310684236251946,0.005906082189994294,null,0.052511085557902695,-0.012302719087392807,-0.012008602491159709,0.010082674280085462,-0.05120725937368355,-0.04096301884578118,-0.04824709443277613,-0.03390541712181408],[0.03703040380818353,0.04160111024636189,-0.006874183053983047,0.035926737209551605,null,0.01433505218136329,0.008393822057133451,0.05792253134071438,1.0,-0.012435805373632921,-0.013584789838131101,-0.020467208345265102,-0.009539623025556136,0.027632573701420964,-0.014010575968743038,-0.017567547477869195,0.06514405367544057,null,0.036450890511021745,-0.013034950824522617,-0.007854128160151873,0.01158164741114022,-0.03644489158760936,-0.003599516163971383,-0.04782483303369228,0.011512951914488728],[0.527001379190095,-0.01856301687561712,0.011992920212730324,0.09591851098555067,null,-0.013503032298900562,0.010716625602816316,-0.03792072926402453,-0.012435805373632921,1.0,-0.018309943159974633,0.9520794812316516,0.041779821547038756,0.1468577889549708,-0.049206522796405396,-0.03090339262315464,0.014530860451130901,null,0.007391971022860604,0.7840524529438003,-0.01226942569425653,0.01943861426168415,0.5387809909286155,0.3906914862732616,0.3614147193599127,0.3949982493476843],[-0.0017248064936005506,0.04496164184457017,0.01026967077891764,0.003746553399414747,null,-0.047804928723936324,-0.002448004504031969,-0.04845140745441007,-0.013584789838131101,-0.018309943159974633,1.0,-0.02100016134804631,0.0030270551851766633,-0.05565945013715784,0.005992638140287275,-0.0011561217403982592,0.008384190549531132,null,0.01490211427676565,-0.02318769683815417,-0.002765411149793258,-0.0026732097462598995,-0.009289863015545017,0.006073462082365508,-0.002743041650094618,-0.021863361984340187],[0.5180533807987473,-0.016415798091589284,-0.006618403729618306,0.09256585743324078,null,-0.008998355741577126,0.007627245240303086,-0.02553811978213767,-0.020467208345265102,0.9520794812316516,-0.02100016134804631,1.0,0.03591403807457628,0.15098208339945465,-0.046273395403409974,-0.031185187132341,0.025725081555713614,null,7.041838399597844e-6,0.7778401149789231,-0.007199621344866431,0.012304662182664646,0.5182135634099916,0.3610013571561942,0.3486268269222821,0.3598376758212616],[0.032750329238358446,-0.057508596182366305,-0.004610373918276953,-0.023040275250219663,null,-0.006399956307915348,0.03641584780648165,-0.01410549422760214,-0.009539623025556136,0.041779821547038756,0.0030270551851766633,0.03591403807457628,1.0,0.011627993254695034,-0.007032331957563421,-0.01241610204888594,-0.01357015277847003,null,-0.04583897148867054,0.029622775407408257,0.010276255398967454,-0.015285785950320482,-0.006601739409793665,-0.001736560916991885,0.015383017538589415,-0.03863970697609799],[0.31226958336913385,0.03143878267460978,-0.002890887494627318,0.11342365432233681,null,0.02543571663708618,0.013822277923868734,0.029091682554607055,0.027632573701420964,0.1468577889549708,-0.05565945013715784,0.15098208339945465,0.011627993254695034,1.0,-0.022753449055741164,-0.0338308628897346,0.054662144947584916,null,0.03898507120997528,0.25509366776350867,-0.05197205255610463,-0.014524187993522172,-0.12588475631019383,-0.09021422469383415,-0.02264409792055782,-0.11675765995913857],[-0.019315184482447408,0.019920109587940524,0.050837709392713176,-0.03479028157128555,null,-0.025798354086228516,-0.033104996620601304,0.021229589891902448,-0.014010575968743038,-0.049206522796405396,0.005992638140287275,-0.046273395403409974,-0.007032331957563421,-0.022753449055741164,1.0,0.7702535494821202,-0.05037850865818768,null,0.02226753127171519,-0.032870883392818497,0.009937454371516021,-0.007579821237291651,-0.028107569640798448,0.010775026452722459,-0.0016949218807848644,0.0071967133658026265],[-0.01687696583002987,0.010432632827188471,0.03395542812345877,-0.038536938361131874,null,-0.040745573226083666,-0.0271233850315131,0.018310684236251946,-0.017567547477869195,-0.03090339262315464,-0.0011561217403982592,-0.031185187132341,-0.01241610204888594,-0.0338308628897346,0.7702535494821202,1.0,-0.03911822729468895,null,0.026782808372062025,-0.011242159946267222,-0.007533012447538296,-0.002493770221637087,0.016130679622509993,0.05663637567113894,0.03992479201915205,0.04682949017735896],[0.03834407600242452,0.04090577882969945,-0.012520662511202586,0.025185820118428397,null,-0.04886239731821483,0.015716740837920094,0.005906082189994294,0.06514405367544057,0.014530860451130901,0.008384190549531132,0.025725081555713614,-0.01357015277847003,0.054662144947584916,-0.05037850865818768,-0.03911822729468895,1.0,null,-0.03965575227703188,0.005964529756147845,0.004815066766406271,0.021760385408100293,-0.0031036258820985245,-0.025538117565577584,0.011873983667206359,-0.022106506829783226],[null,null,null,null,null,null,null,null,null,null,null,null,null,null,null,null,null,null,null,null,null,null,null,null,null,null],[0.01724184971167763,0.053880349696540625,0.05924360324805954,-0.0017411650653121774,null,0.054579182730290096,-0.01997177015285448,0.052511085557902695,0.036450890511021745,0.007391971022860604,0.01490211427676565,7.041838399597844e-6,-0.04583897148867054,0.03898507120997528,0.02226753127171519,0.026782808372062025,-0.03965575227703188,null,1.0,-0.008651783306586395,0.003356616047973891,0.0172185058879668,0.006808161862556711,0.04607645811347928,0.012015843416098388,0.02017825755959815],[0.694980819042386,0.001262551865934924,0.011261842764035693,0.1509298812357059,null,-0.005836233844154435,0.0049227909818217504,-0.012302719087392807,-0.013034950824522617,0.7840524529438003,-0.02318769683815417,0.7778401149789231,0.029622775407408257,0.25509366776350867,-0.032870883392818497,-0.011242159946267222,0.005964529756147845,null,-0.008651783306586395,1.0,-0.03824892259320028,-0.00810530108161293,0.6285030101716197,0.4591669447921792,0.4037157512697114,0.46937109437505664],[-0.01974834213819535,-0.006469949685089387,-0.06019061999841015,-0.026625169963697227,null,0.010134513149031877,-0.023387632832708984,-0.012008602491159709,-0.007854128160151873,-0.01226942569425653,-0.002765411149793258,-0.007199621344866431,0.010276255398967454,-0.05197205255610463,0.009937454371516021,-0.007533012447538296,0.004815066766406271,null,0.003356616047973891,-0.03824892259320028,1.0,0.02084297080618082,-0.0037335713831519453,-0.012250940510361517,0.006887226017121324,-0.006887407801558047],[-0.022171888676218256,-0.018843440674379874,-0.02773101744987151,-0.005170820612444998,null,-0.005289509654893727,0.01901468741943427,0.010082674280085462,0.01158164741114022,0.01943861426168415,-0.0026732097462598995,0.012304662182664646,-0.015285785950320482,-0.014524187993522172,-0.007579821237291651,-0.002493770221637087,0.021760385408100293,null,0.0172185058879668,-0.00810530108161293,0.02084297080618082,1.0,0.008046181677759385,0.04189864090660531,0.01323645038278615,-0.0066343559148815],[0.3265797615210198,-0.029835148084429795,0.025278242530168932,0.08459037323086148,null,-0.008670452158925352,0.013200232522565587,-0.05120725937368355,-0.03644489158760936,0.5387809909286155,-0.009289863015545017,0.5182135634099916,-0.006601739409793665,-0.12588475631019383,-0.028107569640798448,0.016130679622509993,-0.0031036258820985245,null,0.006808161862556711,0.6285030101716197,-0.0037335713831519453,0.008046181677759385,1.0,0.7556400597717622,0.5949121435335806,0.776319868730232],[0.23304271428156786,0.020579456491345828,0.021192036492981303,0.07272210755969345,null,-0.020148735512099274,0.04216157707779825,-0.04096301884578118,-0.003599516163971383,0.3906914862732616,0.006073462082365508,0.3610013571561942,-0.001736560916991885,-0.09021422469383415,0.010775026452722459,0.05663637567113894,-0.025538117565577584,null,0.04607645811347928,0.4591669447921792,-0.012250940510361517,0.04189864090660531,0.7556400597717622,1.0,0.5646468352145276,0.708979300396342],[0.23358594274397443,-0.0301448741790816,0.023431127651953033,0.06596841967042398,null,-0.013241084300847476,0.019751636424415568,-0.04824709443277613,-0.04782483303369228,0.3614147193599127,-0.002743041650094618,0.3486268269222821,0.015383017538589415,-0.02264409792055782,-0.0016949218807848644,0.03992479201915205,0.011873983667206359,null,0.012015843416098388,0.4037157512697114,0.006887226017121324,0.01323645038278615,0.5949121435335806,0.5646468352145276,1.0,0.4991334517346303],[0.2134539721679924,-0.010711419931441687,0.03268606651012232,0.09669835202477857,null,-0.014585692279891599,-0.012766196470941517,-0.03390541712181408,0.011512951914488728,0.3949982493476843,-0.021863361984340187,0.3598376758212616,-0.03863970697609799,-0.11675765995913857,0.0071967133658026265,0.04682949017735896,-0.022106506829783226,null,0.02017825755959815,0.46937109437505664,-0.006887407801558047,-0.0066343559148815,0.776319868730232,0.708979300396342,0.4991334517346303,1.0]],\"type\":\"heatmap\",\"xaxis\":\"x\",\"yaxis\":\"y\",\"hovertemplate\":\"x: %{x}<br>y: %{y}<br>color: %{z}<extra></extra>\"}],                        {\"template\":{\"data\":{\"histogram2dcontour\":[{\"type\":\"histogram2dcontour\",\"colorbar\":{\"outlinewidth\":0,\"ticks\":\"\"},\"colorscale\":[[0.0,\"#0d0887\"],[0.1111111111111111,\"#46039f\"],[0.2222222222222222,\"#7201a8\"],[0.3333333333333333,\"#9c179e\"],[0.4444444444444444,\"#bd3786\"],[0.5555555555555556,\"#d8576b\"],[0.6666666666666666,\"#ed7953\"],[0.7777777777777778,\"#fb9f3a\"],[0.8888888888888888,\"#fdca26\"],[1.0,\"#f0f921\"]]}],\"choropleth\":[{\"type\":\"choropleth\",\"colorbar\":{\"outlinewidth\":0,\"ticks\":\"\"}}],\"histogram2d\":[{\"type\":\"histogram2d\",\"colorbar\":{\"outlinewidth\":0,\"ticks\":\"\"},\"colorscale\":[[0.0,\"#0d0887\"],[0.1111111111111111,\"#46039f\"],[0.2222222222222222,\"#7201a8\"],[0.3333333333333333,\"#9c179e\"],[0.4444444444444444,\"#bd3786\"],[0.5555555555555556,\"#d8576b\"],[0.6666666666666666,\"#ed7953\"],[0.7777777777777778,\"#fb9f3a\"],[0.8888888888888888,\"#fdca26\"],[1.0,\"#f0f921\"]]}],\"heatmap\":[{\"type\":\"heatmap\",\"colorbar\":{\"outlinewidth\":0,\"ticks\":\"\"},\"colorscale\":[[0.0,\"#0d0887\"],[0.1111111111111111,\"#46039f\"],[0.2222222222222222,\"#7201a8\"],[0.3333333333333333,\"#9c179e\"],[0.4444444444444444,\"#bd3786\"],[0.5555555555555556,\"#d8576b\"],[0.6666666666666666,\"#ed7953\"],[0.7777777777777778,\"#fb9f3a\"],[0.8888888888888888,\"#fdca26\"],[1.0,\"#f0f921\"]]}],\"heatmapgl\":[{\"type\":\"heatmapgl\",\"colorbar\":{\"outlinewidth\":0,\"ticks\":\"\"},\"colorscale\":[[0.0,\"#0d0887\"],[0.1111111111111111,\"#46039f\"],[0.2222222222222222,\"#7201a8\"],[0.3333333333333333,\"#9c179e\"],[0.4444444444444444,\"#bd3786\"],[0.5555555555555556,\"#d8576b\"],[0.6666666666666666,\"#ed7953\"],[0.7777777777777778,\"#fb9f3a\"],[0.8888888888888888,\"#fdca26\"],[1.0,\"#f0f921\"]]}],\"contourcarpet\":[{\"type\":\"contourcarpet\",\"colorbar\":{\"outlinewidth\":0,\"ticks\":\"\"}}],\"contour\":[{\"type\":\"contour\",\"colorbar\":{\"outlinewidth\":0,\"ticks\":\"\"},\"colorscale\":[[0.0,\"#0d0887\"],[0.1111111111111111,\"#46039f\"],[0.2222222222222222,\"#7201a8\"],[0.3333333333333333,\"#9c179e\"],[0.4444444444444444,\"#bd3786\"],[0.5555555555555556,\"#d8576b\"],[0.6666666666666666,\"#ed7953\"],[0.7777777777777778,\"#fb9f3a\"],[0.8888888888888888,\"#fdca26\"],[1.0,\"#f0f921\"]]}],\"surface\":[{\"type\":\"surface\",\"colorbar\":{\"outlinewidth\":0,\"ticks\":\"\"},\"colorscale\":[[0.0,\"#0d0887\"],[0.1111111111111111,\"#46039f\"],[0.2222222222222222,\"#7201a8\"],[0.3333333333333333,\"#9c179e\"],[0.4444444444444444,\"#bd3786\"],[0.5555555555555556,\"#d8576b\"],[0.6666666666666666,\"#ed7953\"],[0.7777777777777778,\"#fb9f3a\"],[0.8888888888888888,\"#fdca26\"],[1.0,\"#f0f921\"]]}],\"mesh3d\":[{\"type\":\"mesh3d\",\"colorbar\":{\"outlinewidth\":0,\"ticks\":\"\"}}],\"scatter\":[{\"fillpattern\":{\"fillmode\":\"overlay\",\"size\":10,\"solidity\":0.2},\"type\":\"scatter\"}],\"parcoords\":[{\"type\":\"parcoords\",\"line\":{\"colorbar\":{\"outlinewidth\":0,\"ticks\":\"\"}}}],\"scatterpolargl\":[{\"type\":\"scatterpolargl\",\"marker\":{\"colorbar\":{\"outlinewidth\":0,\"ticks\":\"\"}}}],\"bar\":[{\"error_x\":{\"color\":\"#2a3f5f\"},\"error_y\":{\"color\":\"#2a3f5f\"},\"marker\":{\"line\":{\"color\":\"#E5ECF6\",\"width\":0.5},\"pattern\":{\"fillmode\":\"overlay\",\"size\":10,\"solidity\":0.2}},\"type\":\"bar\"}],\"scattergeo\":[{\"type\":\"scattergeo\",\"marker\":{\"colorbar\":{\"outlinewidth\":0,\"ticks\":\"\"}}}],\"scatterpolar\":[{\"type\":\"scatterpolar\",\"marker\":{\"colorbar\":{\"outlinewidth\":0,\"ticks\":\"\"}}}],\"histogram\":[{\"marker\":{\"pattern\":{\"fillmode\":\"overlay\",\"size\":10,\"solidity\":0.2}},\"type\":\"histogram\"}],\"scattergl\":[{\"type\":\"scattergl\",\"marker\":{\"colorbar\":{\"outlinewidth\":0,\"ticks\":\"\"}}}],\"scatter3d\":[{\"type\":\"scatter3d\",\"line\":{\"colorbar\":{\"outlinewidth\":0,\"ticks\":\"\"}},\"marker\":{\"colorbar\":{\"outlinewidth\":0,\"ticks\":\"\"}}}],\"scattermapbox\":[{\"type\":\"scattermapbox\",\"marker\":{\"colorbar\":{\"outlinewidth\":0,\"ticks\":\"\"}}}],\"scatterternary\":[{\"type\":\"scatterternary\",\"marker\":{\"colorbar\":{\"outlinewidth\":0,\"ticks\":\"\"}}}],\"scattercarpet\":[{\"type\":\"scattercarpet\",\"marker\":{\"colorbar\":{\"outlinewidth\":0,\"ticks\":\"\"}}}],\"carpet\":[{\"aaxis\":{\"endlinecolor\":\"#2a3f5f\",\"gridcolor\":\"white\",\"linecolor\":\"white\",\"minorgridcolor\":\"white\",\"startlinecolor\":\"#2a3f5f\"},\"baxis\":{\"endlinecolor\":\"#2a3f5f\",\"gridcolor\":\"white\",\"linecolor\":\"white\",\"minorgridcolor\":\"white\",\"startlinecolor\":\"#2a3f5f\"},\"type\":\"carpet\"}],\"table\":[{\"cells\":{\"fill\":{\"color\":\"#EBF0F8\"},\"line\":{\"color\":\"white\"}},\"header\":{\"fill\":{\"color\":\"#C8D4E3\"},\"line\":{\"color\":\"white\"}},\"type\":\"table\"}],\"barpolar\":[{\"marker\":{\"line\":{\"color\":\"#E5ECF6\",\"width\":0.5},\"pattern\":{\"fillmode\":\"overlay\",\"size\":10,\"solidity\":0.2}},\"type\":\"barpolar\"}],\"pie\":[{\"automargin\":true,\"type\":\"pie\"}]},\"layout\":{\"autotypenumbers\":\"strict\",\"colorway\":[\"#636efa\",\"#EF553B\",\"#00cc96\",\"#ab63fa\",\"#FFA15A\",\"#19d3f3\",\"#FF6692\",\"#B6E880\",\"#FF97FF\",\"#FECB52\"],\"font\":{\"color\":\"#2a3f5f\"},\"hovermode\":\"closest\",\"hoverlabel\":{\"align\":\"left\"},\"paper_bgcolor\":\"white\",\"plot_bgcolor\":\"#E5ECF6\",\"polar\":{\"bgcolor\":\"#E5ECF6\",\"angularaxis\":{\"gridcolor\":\"white\",\"linecolor\":\"white\",\"ticks\":\"\"},\"radialaxis\":{\"gridcolor\":\"white\",\"linecolor\":\"white\",\"ticks\":\"\"}},\"ternary\":{\"bgcolor\":\"#E5ECF6\",\"aaxis\":{\"gridcolor\":\"white\",\"linecolor\":\"white\",\"ticks\":\"\"},\"baxis\":{\"gridcolor\":\"white\",\"linecolor\":\"white\",\"ticks\":\"\"},\"caxis\":{\"gridcolor\":\"white\",\"linecolor\":\"white\",\"ticks\":\"\"}},\"coloraxis\":{\"colorbar\":{\"outlinewidth\":0,\"ticks\":\"\"}},\"colorscale\":{\"sequential\":[[0.0,\"#0d0887\"],[0.1111111111111111,\"#46039f\"],[0.2222222222222222,\"#7201a8\"],[0.3333333333333333,\"#9c179e\"],[0.4444444444444444,\"#bd3786\"],[0.5555555555555556,\"#d8576b\"],[0.6666666666666666,\"#ed7953\"],[0.7777777777777778,\"#fb9f3a\"],[0.8888888888888888,\"#fdca26\"],[1.0,\"#f0f921\"]],\"sequentialminus\":[[0.0,\"#0d0887\"],[0.1111111111111111,\"#46039f\"],[0.2222222222222222,\"#7201a8\"],[0.3333333333333333,\"#9c179e\"],[0.4444444444444444,\"#bd3786\"],[0.5555555555555556,\"#d8576b\"],[0.6666666666666666,\"#ed7953\"],[0.7777777777777778,\"#fb9f3a\"],[0.8888888888888888,\"#fdca26\"],[1.0,\"#f0f921\"]],\"diverging\":[[0,\"#8e0152\"],[0.1,\"#c51b7d\"],[0.2,\"#de77ae\"],[0.3,\"#f1b6da\"],[0.4,\"#fde0ef\"],[0.5,\"#f7f7f7\"],[0.6,\"#e6f5d0\"],[0.7,\"#b8e186\"],[0.8,\"#7fbc41\"],[0.9,\"#4d9221\"],[1,\"#276419\"]]},\"xaxis\":{\"gridcolor\":\"white\",\"linecolor\":\"white\",\"ticks\":\"\",\"title\":{\"standoff\":15},\"zerolinecolor\":\"white\",\"automargin\":true,\"zerolinewidth\":2},\"yaxis\":{\"gridcolor\":\"white\",\"linecolor\":\"white\",\"ticks\":\"\",\"title\":{\"standoff\":15},\"zerolinecolor\":\"white\",\"automargin\":true,\"zerolinewidth\":2},\"scene\":{\"xaxis\":{\"backgroundcolor\":\"#E5ECF6\",\"gridcolor\":\"white\",\"linecolor\":\"white\",\"showbackground\":true,\"ticks\":\"\",\"zerolinecolor\":\"white\",\"gridwidth\":2},\"yaxis\":{\"backgroundcolor\":\"#E5ECF6\",\"gridcolor\":\"white\",\"linecolor\":\"white\",\"showbackground\":true,\"ticks\":\"\",\"zerolinecolor\":\"white\",\"gridwidth\":2},\"zaxis\":{\"backgroundcolor\":\"#E5ECF6\",\"gridcolor\":\"white\",\"linecolor\":\"white\",\"showbackground\":true,\"ticks\":\"\",\"zerolinecolor\":\"white\",\"gridwidth\":2}},\"shapedefaults\":{\"line\":{\"color\":\"#2a3f5f\"}},\"annotationdefaults\":{\"arrowcolor\":\"#2a3f5f\",\"arrowhead\":0,\"arrowwidth\":1},\"geo\":{\"bgcolor\":\"white\",\"landcolor\":\"#E5ECF6\",\"subunitcolor\":\"white\",\"showland\":true,\"showlakes\":true,\"lakecolor\":\"white\"},\"title\":{\"x\":0.05},\"mapbox\":{\"style\":\"light\"}}},\"xaxis\":{\"anchor\":\"y\",\"domain\":[0.0,1.0]},\"yaxis\":{\"anchor\":\"x\",\"domain\":[0.0,1.0],\"autorange\":\"reversed\"},\"coloraxis\":{\"colorscale\":[[0.0,\"#440154\"],[0.1111111111111111,\"#482878\"],[0.2222222222222222,\"#3e4989\"],[0.3333333333333333,\"#31688e\"],[0.4444444444444444,\"#26828e\"],[0.5555555555555556,\"#1f9e89\"],[0.6666666666666666,\"#35b779\"],[0.7777777777777778,\"#6ece58\"],[0.8888888888888888,\"#b5de2b\"],[1.0,\"#fde725\"]]},\"margin\":{\"t\":60}},                        {\"responsive\": true}                    ).then(function(){\n",
       "                            \n",
       "var gd = document.getElementById('42f77cc6-0c7e-4601-a72b-eead02c7359c');\n",
       "var x = new MutationObserver(function (mutations, observer) {{\n",
       "        var display = window.getComputedStyle(gd).display;\n",
       "        if (!display || display === 'none') {{\n",
       "            console.log([gd, 'removed!']);\n",
       "            Plotly.purge(gd);\n",
       "            observer.disconnect();\n",
       "        }}\n",
       "}});\n",
       "\n",
       "// Listen for the removal of the full notebook cells\n",
       "var notebookContainer = gd.closest('#notebook-container');\n",
       "if (notebookContainer) {{\n",
       "    x.observe(notebookContainer, {childList: true});\n",
       "}}\n",
       "\n",
       "// Listen for the clearing of the current output cell\n",
       "var outputEl = gd.closest('.output');\n",
       "if (outputEl) {{\n",
       "    x.observe(outputEl, {childList: true});\n",
       "}}\n",
       "\n",
       "                        })                };                });            </script>        </div>"
      ]
     },
     "metadata": {},
     "output_type": "display_data"
    }
   ],
   "source": [
    "#check the correlation among features\n",
    "px.imshow(trainData.corr(),text_auto=True, aspect=\"auto\",color_continuous_scale=\"viridis\")"
   ]
  },
  {
   "cell_type": "code",
   "execution_count": 8,
   "id": "da1e0faa",
   "metadata": {
    "execution": {
     "iopub.execute_input": "2022-12-21T15:37:20.595993Z",
     "iopub.status.busy": "2022-12-21T15:37:20.595540Z",
     "iopub.status.idle": "2022-12-21T15:37:20.746748Z",
     "shell.execute_reply": "2022-12-21T15:37:20.745728Z"
    },
    "papermill": {
     "duration": 0.165037,
     "end_time": "2022-12-21T15:37:20.749105",
     "exception": false,
     "start_time": "2022-12-21T15:37:20.584068",
     "status": "completed"
    },
    "tags": []
   },
   "outputs": [
    {
     "data": {
      "image/png": "[encoded data removed]",
      "text/plain": [
       "<Figure size 432x288 with 1 Axes>"
      ]
     },
     "metadata": {},
     "output_type": "display_data"
    }
   ],
   "source": [
    "#check the balance of the data\n",
    "sns.countplot(y = trainData.Attrition)\n",
    "plt.show()"
   ]
  },
  {
   "cell_type": "code",
   "execution_count": 9,
   "id": "e0873bb8",
   "metadata": {
    "execution": {
     "iopub.execute_input": "2022-12-21T15:37:20.771964Z",
     "iopub.status.busy": "2022-12-21T15:37:20.771608Z",
     "iopub.status.idle": "2022-12-21T15:37:22.179532Z",
     "shell.execute_reply": "2022-12-21T15:37:22.178767Z"
    },
    "papermill": {
     "duration": 1.422024,
     "end_time": "2022-12-21T15:37:22.181853",
     "exception": false,
     "start_time": "2022-12-21T15:37:20.759829",
     "status": "completed"
    },
    "tags": []
   },
   "outputs": [
    {
     "data": {
      "text/plain": [
       "<seaborn.axisgrid.PairGrid at 0x7fba07cc7d90>"
      ]
     },
     "execution_count": 9,
     "metadata": {},
     "output_type": "execute_result"
    },
    {
     "data": {
      "image/png": "[encoded data removed]",
      "text/plain": [
       "<Figure size 540x540 with 12 Axes>"
      ]
     },
     "metadata": {},
     "output_type": "display_data"
    }
   ],
   "source": [
    "#check relationship among different features about \"rate\"\n",
    "g = sns.PairGrid(trainData, vars=['MonthlyRate', 'DailyRate', 'HourlyRate'], hue=\"Attrition\") \n",
    "g.map_diag(sns.kdeplot)\n",
    "g.map_offdiag(plt.scatter, s=16)"
   ]
  },
  {
   "cell_type": "code",
   "execution_count": 10,
   "id": "3af97fb8",
   "metadata": {
    "execution": {
     "iopub.execute_input": "2022-12-21T15:37:22.209997Z",
     "iopub.status.busy": "2022-12-21T15:37:22.209556Z",
     "iopub.status.idle": "2022-12-21T15:37:23.569765Z",
     "shell.execute_reply": "2022-12-21T15:37:23.567941Z"
    },
    "papermill": {
     "duration": 1.376947,
     "end_time": "2022-12-21T15:37:23.572508",
     "exception": false,
     "start_time": "2022-12-21T15:37:22.195561",
     "status": "completed"
    },
    "tags": []
   },
   "outputs": [
    {
     "data": {
      "text/plain": [
       "<seaborn.axisgrid.PairGrid at 0x7fb9ff712750>"
      ]
     },
     "execution_count": 10,
     "metadata": {},
     "output_type": "execute_result"
    },
    {
     "data": {
      "image/png": "[encoded data removed]",
      "text/plain": [
       "<Figure size 540x540 with 12 Axes>"
      ]
     },
     "metadata": {},
     "output_type": "display_data"
    }
   ],
   "source": [
    "#features about satisfaction among employees\n",
    "g = sns.PairGrid(trainData, vars=['JobSatisfaction', 'EnvironmentSatisfaction', 'RelationshipSatisfaction'], hue=\"Attrition\") \n",
    "g.map_diag(sns.kdeplot)\n",
    "g.map_offdiag(plt.scatter, s=16)"
   ]
  },
  {
   "cell_type": "code",
   "execution_count": 11,
   "id": "385154b0",
   "metadata": {
    "execution": {
     "iopub.execute_input": "2022-12-21T15:37:23.601027Z",
     "iopub.status.busy": "2022-12-21T15:37:23.600682Z",
     "iopub.status.idle": "2022-12-21T15:37:24.267775Z",
     "shell.execute_reply": "2022-12-21T15:37:24.266628Z"
    },
    "papermill": {
     "duration": 0.683888,
     "end_time": "2022-12-21T15:37:24.269962",
     "exception": false,
     "start_time": "2022-12-21T15:37:23.586074",
     "status": "completed"
    },
    "tags": []
   },
   "outputs": [
    {
     "data": {
      "text/plain": [
       "<seaborn.axisgrid.FacetGrid at 0x7fb9fdad7e50>"
      ]
     },
     "execution_count": 11,
     "metadata": {},
     "output_type": "execute_result"
    },
    {
     "data": {
      "image/png": "[encoded data removed]",
      "text/plain": [
       "<Figure size 417.675x360 with 1 Axes>"
      ]
     },
     "metadata": {},
     "output_type": "display_data"
    }
   ],
   "source": [
    "#features about financial conditions of employees\n",
    "sns.lmplot(x='MonthlyIncome',y='StockOptionLevel',data=trainData, hue='Attrition')"
   ]
  },
  {
   "cell_type": "markdown",
   "id": "85350a03",
   "metadata": {
    "papermill": {
     "duration": 0.012722,
     "end_time": "2022-12-21T15:37:24.295889",
     "exception": false,
     "start_time": "2022-12-21T15:37:24.283167",
     "status": "completed"
    },
    "tags": []
   },
   "source": [
    "# Drop useless columns"
   ]
  },
  {
   "cell_type": "code",
   "execution_count": 12,
   "id": "e88cb197",
   "metadata": {
    "execution": {
     "iopub.execute_input": "2022-12-21T15:37:24.323553Z",
     "iopub.status.busy": "2022-12-21T15:37:24.323204Z",
     "iopub.status.idle": "2022-12-21T15:37:24.332473Z",
     "shell.execute_reply": "2022-12-21T15:37:24.331545Z"
    },
    "papermill": {
     "duration": 0.025137,
     "end_time": "2022-12-21T15:37:24.334194",
     "exception": false,
     "start_time": "2022-12-21T15:37:24.309057",
     "status": "completed"
    },
    "tags": []
   },
   "outputs": [
    {
     "data": {
      "text/plain": [
       "0      False\n",
       "1      False\n",
       "2      False\n",
       "3      False\n",
       "4      False\n",
       "       ...  \n",
       "362    False\n",
       "363    False\n",
       "364    False\n",
       "365    False\n",
       "366    False\n",
       "Name: Over18, Length: 367, dtype: bool"
      ]
     },
     "execution_count": 12,
     "metadata": {},
     "output_type": "execute_result"
    }
   ],
   "source": [
    "trainData.EmployeeCount!=1\n",
    "trainData.Over18!='Y'\n",
    "testData.EmployeeCount!=1\n",
    "testData.Over18!='Y'"
   ]
  },
  {
   "cell_type": "code",
   "execution_count": 13,
   "id": "b5f0f344",
   "metadata": {
    "execution": {
     "iopub.execute_input": "2022-12-21T15:37:24.362251Z",
     "iopub.status.busy": "2022-12-21T15:37:24.361910Z",
     "iopub.status.idle": "2022-12-21T15:37:24.371862Z",
     "shell.execute_reply": "2022-12-21T15:37:24.370834Z"
    },
    "papermill": {
     "duration": 0.026276,
     "end_time": "2022-12-21T15:37:24.374006",
     "exception": false,
     "start_time": "2022-12-21T15:37:24.347730",
     "status": "completed"
    },
    "tags": []
   },
   "outputs": [],
   "source": [
    "del trainData['EmployeeCount']\n",
    "del trainData['Over18']\n",
    "del trainData['EmployeeNumber']\n",
    "del trainData['StandardHours']\n",
    "\n",
    "del testData['EmployeeCount']\n",
    "del testData['Over18']\n",
    "del testData['EmployeeNumber']\n",
    "del testData['StandardHours']\n",
    "\n",
    "#target='Attrition'\n",
    "#features=[col for col in trainData.columns if col !=target]\n",
    "\n"
   ]
  },
  {
   "cell_type": "code",
   "execution_count": 14,
   "id": "935c7757",
   "metadata": {
    "execution": {
     "iopub.execute_input": "2022-12-21T15:37:24.402846Z",
     "iopub.status.busy": "2022-12-21T15:37:24.402482Z",
     "iopub.status.idle": "2022-12-21T15:37:24.409829Z",
     "shell.execute_reply": "2022-12-21T15:37:24.408472Z"
    },
    "papermill": {
     "duration": 0.024092,
     "end_time": "2022-12-21T15:37:24.411844",
     "exception": false,
     "start_time": "2022-12-21T15:37:24.387752",
     "status": "completed"
    },
    "tags": []
   },
   "outputs": [
    {
     "data": {
      "text/plain": [
       "(367, 31)"
      ]
     },
     "execution_count": 14,
     "metadata": {},
     "output_type": "execute_result"
    }
   ],
   "source": [
    "trainData.shape\n",
    "testData.shape"
   ]
  },
  {
   "cell_type": "markdown",
   "id": "29ac7ae5",
   "metadata": {
    "papermill": {
     "duration": 0.013829,
     "end_time": "2022-12-21T15:37:24.438826",
     "exception": false,
     "start_time": "2022-12-21T15:37:24.424997",
     "status": "completed"
    },
    "tags": []
   },
   "source": [
    "# Deal with missing value"
   ]
  },
  {
   "cell_type": "code",
   "execution_count": 15,
   "id": "8b64b712",
   "metadata": {
    "execution": {
     "iopub.execute_input": "2022-12-21T15:37:24.467632Z",
     "iopub.status.busy": "2022-12-21T15:37:24.467211Z",
     "iopub.status.idle": "2022-12-21T15:37:24.480398Z",
     "shell.execute_reply": "2022-12-21T15:37:24.479017Z"
    },
    "papermill": {
     "duration": 0.029818,
     "end_time": "2022-12-21T15:37:24.482330",
     "exception": false,
     "start_time": "2022-12-21T15:37:24.452512",
     "status": "completed"
    },
    "tags": []
   },
   "outputs": [
    {
     "data": {
      "text/plain": [
       "(1103, 31)"
      ]
     },
     "execution_count": 15,
     "metadata": {},
     "output_type": "execute_result"
    }
   ],
   "source": [
    " #deal with missing value\n",
    "trainData.dropna()\n",
    "trainData.shape\n",
    "#Therefore,no missing value in the dataframe"
   ]
  },
  {
   "cell_type": "code",
   "execution_count": 16,
   "id": "d466713b",
   "metadata": {
    "execution": {
     "iopub.execute_input": "2022-12-21T15:37:24.512131Z",
     "iopub.status.busy": "2022-12-21T15:37:24.511801Z",
     "iopub.status.idle": "2022-12-21T15:37:24.523130Z",
     "shell.execute_reply": "2022-12-21T15:37:24.522431Z"
    },
    "papermill": {
     "duration": 0.027836,
     "end_time": "2022-12-21T15:37:24.524863",
     "exception": false,
     "start_time": "2022-12-21T15:37:24.497027",
     "status": "completed"
    },
    "tags": []
   },
   "outputs": [],
   "source": [
    "#Select categorical columns\n",
    "categorical_cols = [cname for cname in trainData.columns if \n",
    "                    trainData[cname].nunique() < 23 and\n",
    "                    trainData[cname].dtype =='object']\n",
    "\n",
    "#Select numerical columns \n",
    "numerical_cols =[cname for cname in trainData.columns if trainData[cname].dtype in \n",
    "                ['float64', 'int64']]\n",
    "\n"
   ]
  },
  {
   "cell_type": "markdown",
   "id": "23f74688",
   "metadata": {
    "papermill": {
     "duration": 0.013035,
     "end_time": "2022-12-21T15:37:24.551238",
     "exception": false,
     "start_time": "2022-12-21T15:37:24.538203",
     "status": "completed"
    },
    "tags": []
   },
   "source": [
    "# Remove Outliers"
   ]
  },
  {
   "cell_type": "code",
   "execution_count": 17,
   "id": "5e04b4f9",
   "metadata": {
    "execution": {
     "iopub.execute_input": "2022-12-21T15:37:24.579854Z",
     "iopub.status.busy": "2022-12-21T15:37:24.579495Z",
     "iopub.status.idle": "2022-12-21T15:37:24.756666Z",
     "shell.execute_reply": "2022-12-21T15:37:24.755344Z"
    },
    "papermill": {
     "duration": 0.193985,
     "end_time": "2022-12-21T15:37:24.758691",
     "exception": false,
     "start_time": "2022-12-21T15:37:24.564706",
     "status": "completed"
    },
    "tags": []
   },
   "outputs": [
    {
     "name": "stdout",
     "output_type": "stream",
     "text": [
      "Old Shape:  (1103, 31)\n",
      "New Shape:  (1091, 31)\n"
     ]
    }
   ],
   "source": [
    "#Use interquantile to detect and delete outliers\n",
    "#numerical dataframe\n",
    "noout_train=trainData[numerical_cols]\n",
    "print(\"Old Shape: \", trainData.shape)\n",
    "\n",
    "''' Detection '''\n",
    "# IQR\n",
    "for i in noout_train:\n",
    "    Q1 = np.percentile( noout_train[i], 25, interpolation = 'midpoint')\n",
    "\n",
    "\n",
    "    Q3 = np.percentile(noout_train[i] , 75, interpolation = 'midpoint')\n",
    "\n",
    "    IQR = Q3 - Q1\n",
    "    \n",
    "    # Upper bound\n",
    "    upper = np.where( noout_train[i] >= (Q3+1.5*IQR))\n",
    "    # Lower bound\n",
    "    lower = np.where( noout_train[i] <= (Q1-1.5*IQR))\n",
    "\n",
    "''' Removing the Outliers '''\n",
    "\n",
    "trainData.drop(upper[0], inplace = True)\n",
    "trainData.drop(lower[0], inplace = True)\n",
    "\n",
    "print(\"New Shape: \", trainData.shape)"
   ]
  },
  {
   "cell_type": "markdown",
   "id": "2c81e915",
   "metadata": {
    "papermill": {
     "duration": 0.012914,
     "end_time": "2022-12-21T15:37:24.785167",
     "exception": false,
     "start_time": "2022-12-21T15:37:24.772253",
     "status": "completed"
    },
    "tags": []
   },
   "source": [
    "# Scaling"
   ]
  },
  {
   "cell_type": "code",
   "execution_count": 18,
   "id": "cc79e694",
   "metadata": {
    "execution": {
     "iopub.execute_input": "2022-12-21T15:37:24.813214Z",
     "iopub.status.busy": "2022-12-21T15:37:24.812712Z",
     "iopub.status.idle": "2022-12-21T15:37:24.930622Z",
     "shell.execute_reply": "2022-12-21T15:37:24.929890Z"
    },
    "papermill": {
     "duration": 0.133957,
     "end_time": "2022-12-21T15:37:24.932372",
     "exception": false,
     "start_time": "2022-12-21T15:37:24.798415",
     "status": "completed"
    },
    "tags": []
   },
   "outputs": [
    {
     "data": {
      "image/png": "[encoded data removed]",
      "text/plain": [
       "<Figure size 432x288 with 1 Axes>"
      ]
     },
     "metadata": {},
     "output_type": "display_data"
    }
   ],
   "source": [
    "#The distribution of MonthlyIncome is imbalance\n",
    "sns.boxplot(y='MonthlyIncome',data=trainData);"
   ]
  },
  {
   "cell_type": "code",
   "execution_count": 19,
   "id": "d06fb557",
   "metadata": {
    "execution": {
     "iopub.execute_input": "2022-12-21T15:37:24.968978Z",
     "iopub.status.busy": "2022-12-21T15:37:24.967205Z",
     "iopub.status.idle": "2022-12-21T15:37:25.081794Z",
     "shell.execute_reply": "2022-12-21T15:37:25.080949Z"
    },
    "papermill": {
     "duration": 0.133034,
     "end_time": "2022-12-21T15:37:25.083695",
     "exception": false,
     "start_time": "2022-12-21T15:37:24.950661",
     "status": "completed"
    },
    "tags": []
   },
   "outputs": [
    {
     "data": {
      "image/png": "[encoded data removed]",
      "text/plain": [
       "<Figure size 432x288 with 1 Axes>"
      ]
     },
     "metadata": {},
     "output_type": "display_data"
    }
   ],
   "source": [
    "#The scale of DailyRate is inconsistant with other features\n",
    "sns.boxplot(y='DailyRate',data=trainData);"
   ]
  },
  {
   "cell_type": "code",
   "execution_count": 20,
   "id": "cd9db386",
   "metadata": {
    "execution": {
     "iopub.execute_input": "2022-12-21T15:37:25.121144Z",
     "iopub.status.busy": "2022-12-21T15:37:25.120653Z",
     "iopub.status.idle": "2022-12-21T15:37:25.317134Z",
     "shell.execute_reply": "2022-12-21T15:37:25.316542Z"
    },
    "papermill": {
     "duration": 0.216074,
     "end_time": "2022-12-21T15:37:25.318745",
     "exception": false,
     "start_time": "2022-12-21T15:37:25.102671",
     "status": "completed"
    },
    "tags": []
   },
   "outputs": [
    {
     "data": {
      "image/png": "[encoded data removed]",
      "text/plain": [
       "<Figure size 432x288 with 1 Axes>"
      ]
     },
     "metadata": {},
     "output_type": "display_data"
    }
   ],
   "source": [
    "#the range of monthly Rate is imbalance\n",
    "sns.kdeplot(trainData.MonthlyRate);"
   ]
  },
  {
   "cell_type": "code",
   "execution_count": 21,
   "id": "108766d0",
   "metadata": {
    "execution": {
     "iopub.execute_input": "2022-12-21T15:37:25.348782Z",
     "iopub.status.busy": "2022-12-21T15:37:25.348412Z",
     "iopub.status.idle": "2022-12-21T15:37:25.359915Z",
     "shell.execute_reply": "2022-12-21T15:37:25.358974Z"
    },
    "papermill": {
     "duration": 0.029549,
     "end_time": "2022-12-21T15:37:25.362431",
     "exception": false,
     "start_time": "2022-12-21T15:37:25.332882",
     "status": "completed"
    },
    "tags": []
   },
   "outputs": [],
   "source": [
    "#scale the large data in train and test dataset\n",
    "X1=trainData.MonthlyIncome\n",
    "trainData.MonthlyIncome = preprocessing.scale(X1)\n",
    "X2=trainData.MonthlyRate\n",
    "trainData.MonthlyRate = preprocessing.scale(X2)\n",
    "X3=trainData.DailyRate\n",
    "trainData.DailyRate = preprocessing.scale(X3)\n",
    "\n",
    "X4=testData.MonthlyIncome\n",
    "testData.MonthlyIncome = preprocessing.scale(X4)\n",
    "X5=testData.MonthlyRate\n",
    "testData.MonthlyRate = preprocessing.scale(X5)\n",
    "X6=trainData.DailyRate\n",
    "trainData.DailyRate = preprocessing.scale(X6)\n",
    "\n"
   ]
  },
  {
   "cell_type": "markdown",
   "id": "0b1a34c7",
   "metadata": {
    "papermill": {
     "duration": 0.013566,
     "end_time": "2022-12-21T15:37:25.390180",
     "exception": false,
     "start_time": "2022-12-21T15:37:25.376614",
     "status": "completed"
    },
    "tags": []
   },
   "source": [
    "# Encoding"
   ]
  },
  {
   "cell_type": "code",
   "execution_count": 22,
   "id": "e4ff5613",
   "metadata": {
    "execution": {
     "iopub.execute_input": "2022-12-21T15:37:25.419805Z",
     "iopub.status.busy": "2022-12-21T15:37:25.419460Z",
     "iopub.status.idle": "2022-12-21T15:37:25.436008Z",
     "shell.execute_reply": "2022-12-21T15:37:25.435294Z"
    },
    "papermill": {
     "duration": 0.033777,
     "end_time": "2022-12-21T15:37:25.437908",
     "exception": false,
     "start_time": "2022-12-21T15:37:25.404131",
     "status": "completed"
    },
    "tags": []
   },
   "outputs": [],
   "source": [
    "#encode catergorical variable of attrition\n",
    "#train=pd.get_dummies(trainData)\n",
    "#train.dtypes\n",
    "\n",
    "\n",
    "\n",
    "#encode all non-numerical features\n",
    "def lable_encoder(train,test,columns):\n",
    "    for col in columns:\n",
    "        trainData[col]=trainData[col].astype(str)\n",
    "        testData[col]=testData[col].astype(str)\n",
    "        trainData[col]=LabelEncoder().fit_transform(trainData[col])\n",
    "        testData[col]=LabelEncoder().fit_transform(testData[col])\n",
    "    return trainData,testData\n",
    " \n",
    "\n",
    "train,test = lable_encoder(trainData,testData,categorical_cols)\n",
    "\n",
    "#train.dtypes"
   ]
  },
  {
   "cell_type": "code",
   "execution_count": 23,
   "id": "76694e84",
   "metadata": {
    "execution": {
     "iopub.execute_input": "2022-12-21T15:37:25.468625Z",
     "iopub.status.busy": "2022-12-21T15:37:25.468089Z",
     "iopub.status.idle": "2022-12-21T15:37:25.476968Z",
     "shell.execute_reply": "2022-12-21T15:37:25.476318Z"
    },
    "papermill": {
     "duration": 0.026777,
     "end_time": "2022-12-21T15:37:25.478895",
     "exception": false,
     "start_time": "2022-12-21T15:37:25.452118",
     "status": "completed"
    },
    "tags": []
   },
   "outputs": [],
   "source": [
    "features=train.drop('Attrition',axis=1)\n",
    "target=train['Attrition']\n",
    "\n",
    "#split train and validation data set\n",
    "x_train, x_valid, y_train, y_valid = train_test_split(features,target, random_state=0)\n",
    "\n",
    "# test set\n",
    "x_test = test.drop(['Attrition'], axis=1)\n",
    "y_test = test['Attrition']\n"
   ]
  },
  {
   "cell_type": "markdown",
   "id": "f4720fb0",
   "metadata": {
    "papermill": {
     "duration": 0.013685,
     "end_time": "2022-12-21T15:37:25.506778",
     "exception": false,
     "start_time": "2022-12-21T15:37:25.493093",
     "status": "completed"
    },
    "tags": []
   },
   "source": [
    "#  Models\n",
    "1. models before feature selection\n",
    " 1.1 logistic regression model\n",
    " 1.2 decision tree model\n",
    " 1.3 after compare scores in Kaggle, the models using selected features perform better.\n",
    "\n",
    "2. feature selection based on random forest \n",
    "3. models after feature selection\n",
    " 3.1 random forest \n",
    " 3.2 decision tree\n",
    " 3.3 logistic regression\n",
    " 3.4 xgtboost\n"
   ]
  },
  {
   "cell_type": "markdown",
   "id": "b5061c60",
   "metadata": {
    "papermill": {
     "duration": 0.014209,
     "end_time": "2022-12-21T15:37:25.535832",
     "exception": false,
     "start_time": "2022-12-21T15:37:25.521623",
     "status": "completed"
    },
    "tags": []
   },
   "source": [
    "# -Before features selection"
   ]
  },
  {
   "cell_type": "code",
   "execution_count": 24,
   "id": "bd272890",
   "metadata": {
    "execution": {
     "iopub.execute_input": "2022-12-21T15:37:25.565493Z",
     "iopub.status.busy": "2022-12-21T15:37:25.565122Z",
     "iopub.status.idle": "2022-12-21T15:37:25.607360Z",
     "shell.execute_reply": "2022-12-21T15:37:25.606235Z"
    },
    "papermill": {
     "duration": 0.05978,
     "end_time": "2022-12-21T15:37:25.609640",
     "exception": false,
     "start_time": "2022-12-21T15:37:25.549860",
     "status": "completed"
    },
    "tags": []
   },
   "outputs": [
    {
     "name": "stdout",
     "output_type": "stream",
     "text": [
      "Test score: 0.88\n",
      "Test score: 0.87\n"
     ]
    }
   ],
   "source": [
    "#logistic model\n",
    "logreg = LogisticRegression()\n",
    "logreg.fit(x_train, y_train)\n",
    "print(\"Test score: {:.2f}\".format(logreg.score(x_train, y_train)))\n",
    "print(\"Test score: {:.2f}\".format(logreg.score(x_valid, y_valid)))\n"
   ]
  },
  {
   "cell_type": "code",
   "execution_count": 25,
   "id": "9e6425a7",
   "metadata": {
    "execution": {
     "iopub.execute_input": "2022-12-21T15:37:25.649863Z",
     "iopub.status.busy": "2022-12-21T15:37:25.649321Z",
     "iopub.status.idle": "2022-12-21T15:37:25.668543Z",
     "shell.execute_reply": "2022-12-21T15:37:25.667275Z"
    },
    "papermill": {
     "duration": 0.041306,
     "end_time": "2022-12-21T15:37:25.670515",
     "exception": false,
     "start_time": "2022-12-21T15:37:25.629209",
     "status": "completed"
    },
    "tags": []
   },
   "outputs": [
    {
     "name": "stdout",
     "output_type": "stream",
     "text": [
      "Accuracy on validation set: 0.885\n",
      "Accuracy on test set: 0.835\n"
     ]
    }
   ],
   "source": [
    "from sklearn.tree import DecisionTreeClassifier\n",
    "\n",
    "tree = DecisionTreeClassifier(max_depth=4,random_state=0)\n",
    "tree.fit(x_train, y_train)\n",
    "print(\"Accuracy on validation set: {:.3f}\".format(tree.score(x_train, y_train)))\n",
    "print(\"Accuracy on test set: {:.3f}\".format(tree.score(x_valid, y_valid)))"
   ]
  },
  {
   "cell_type": "code",
   "execution_count": 26,
   "id": "839a3727",
   "metadata": {
    "execution": {
     "iopub.execute_input": "2022-12-21T15:37:25.710471Z",
     "iopub.status.busy": "2022-12-21T15:37:25.710102Z",
     "iopub.status.idle": "2022-12-21T15:37:25.715482Z",
     "shell.execute_reply": "2022-12-21T15:37:25.714755Z"
    },
    "papermill": {
     "duration": 0.027366,
     "end_time": "2022-12-21T15:37:25.717293",
     "exception": false,
     "start_time": "2022-12-21T15:37:25.689927",
     "status": "completed"
    },
    "tags": []
   },
   "outputs": [],
   "source": [
    "trainData_tem= trainData.drop(['Attrition'],axis = 1)"
   ]
  },
  {
   "cell_type": "markdown",
   "id": "996a78a2",
   "metadata": {
    "papermill": {
     "duration": 0.013758,
     "end_time": "2022-12-21T15:37:25.746089",
     "exception": false,
     "start_time": "2022-12-21T15:37:25.732331",
     "status": "completed"
    },
    "tags": []
   },
   "source": [
    "# -After feature selection"
   ]
  },
  {
   "cell_type": "code",
   "execution_count": 27,
   "id": "43430e6e",
   "metadata": {
    "execution": {
     "iopub.execute_input": "2022-12-21T15:37:25.774862Z",
     "iopub.status.busy": "2022-12-21T15:37:25.774543Z",
     "iopub.status.idle": "2022-12-21T15:37:25.778838Z",
     "shell.execute_reply": "2022-12-21T15:37:25.778018Z"
    },
    "papermill": {
     "duration": 0.020606,
     "end_time": "2022-12-21T15:37:25.780473",
     "exception": false,
     "start_time": "2022-12-21T15:37:25.759867",
     "status": "completed"
    },
    "tags": []
   },
   "outputs": [],
   "source": [
    "from sklearn.feature_selection import SelectFromModel\n",
    "from sklearn.ensemble import RandomForestClassifier\n",
    "select = SelectFromModel(\n",
    " RandomForestClassifier(n_estimators=100, random_state=42),\n",
    " threshold=\"median\")"
   ]
  },
  {
   "cell_type": "code",
   "execution_count": 28,
   "id": "77ee1a5f",
   "metadata": {
    "execution": {
     "iopub.execute_input": "2022-12-21T15:37:25.809482Z",
     "iopub.status.busy": "2022-12-21T15:37:25.809036Z",
     "iopub.status.idle": "2022-12-21T15:37:26.068173Z",
     "shell.execute_reply": "2022-12-21T15:37:26.066816Z"
    },
    "papermill": {
     "duration": 0.27584,
     "end_time": "2022-12-21T15:37:26.070086",
     "exception": false,
     "start_time": "2022-12-21T15:37:25.794246",
     "status": "completed"
    },
    "tags": []
   },
   "outputs": [
    {
     "name": "stdout",
     "output_type": "stream",
     "text": [
      "X_train.shape: (818, 30)\n",
      "X_train_s.shape: (818, 15)\n"
     ]
    }
   ],
   "source": [
    "select.fit(x_train, y_train)\n",
    "X_train_s = select.transform(x_train)\n",
    "X_test_s = select.transform(x_test)\n",
    "X_valid_s = select.transform(x_valid)\n",
    "\n",
    "print(\"X_train.shape: {}\".format(x_train.shape))\n",
    "print(\"X_train_s.shape: {}\".format(X_train_s.shape))\n"
   ]
  },
  {
   "cell_type": "code",
   "execution_count": 29,
   "id": "209564af",
   "metadata": {
    "execution": {
     "iopub.execute_input": "2022-12-21T15:37:26.100602Z",
     "iopub.status.busy": "2022-12-21T15:37:26.099863Z",
     "iopub.status.idle": "2022-12-21T15:37:26.279669Z",
     "shell.execute_reply": "2022-12-21T15:37:26.278409Z"
    },
    "papermill": {
     "duration": 0.197606,
     "end_time": "2022-12-21T15:37:26.282182",
     "exception": false,
     "start_time": "2022-12-21T15:37:26.084576",
     "status": "completed"
    },
    "tags": []
   },
   "outputs": [
    {
     "data": {
      "text/plain": [
       "Text(0.5, 0, 'Sample index')"
      ]
     },
     "execution_count": 29,
     "metadata": {},
     "output_type": "execute_result"
    },
    {
     "data": {
      "image/png": "[encoded data removed]",
      "text/plain": [
       "<Figure size 1152x144 with 1 Axes>"
      ]
     },
     "metadata": {},
     "output_type": "display_data"
    }
   ],
   "source": [
    "mask = select.get_support()\n",
    "plt.matshow(mask.reshape(1, -1), cmap='gray_r')\n",
    "plt.xlabel(\"Sample index\")"
   ]
  },
  {
   "cell_type": "markdown",
   "id": "731ab6ed",
   "metadata": {
    "papermill": {
     "duration": 0.014449,
     "end_time": "2022-12-21T15:37:26.311531",
     "exception": false,
     "start_time": "2022-12-21T15:37:26.297082",
     "status": "completed"
    },
    "tags": []
   },
   "source": [
    "# -Grid Research for tuning parameters"
   ]
  },
  {
   "cell_type": "code",
   "execution_count": 30,
   "id": "958dfd54",
   "metadata": {
    "execution": {
     "iopub.execute_input": "2022-12-21T15:37:26.342831Z",
     "iopub.status.busy": "2022-12-21T15:37:26.342507Z",
     "iopub.status.idle": "2022-12-21T15:37:27.005972Z",
     "shell.execute_reply": "2022-12-21T15:37:27.004594Z"
    },
    "papermill": {
     "duration": 0.682195,
     "end_time": "2022-12-21T15:37:27.008445",
     "exception": false,
     "start_time": "2022-12-21T15:37:26.326250",
     "status": "completed"
    },
    "tags": []
   },
   "outputs": [
    {
     "name": "stdout",
     "output_type": "stream",
     "text": [
      "best tree: {'criterion': 'gini', 'max_depth': 2, 'min_impurity_decrease': 0.1, 'min_samples_leaf': 2} best score: 0.8361957921854873\n"
     ]
    }
   ],
   "source": [
    "# test optimal max_depth for tree_s model by grid research\n",
    "from sklearn.model_selection import GridSearchCV\n",
    "param = {'criterion':['gini'],'max_depth':[2,3,4,5,10],'min_samples_leaf':[2,3,5,10],'min_impurity_decrease':[0.1,0.2,0.5]}\n",
    "grid = GridSearchCV(DecisionTreeClassifier(),param_grid=param,cv=6)\n",
    "grid.fit(X_train_s,y_train)\n",
    "print('best tree:',grid.best_params_,'best score:', grid.best_score_)\n"
   ]
  },
  {
   "cell_type": "code",
   "execution_count": 31,
   "id": "e4a32f20",
   "metadata": {
    "execution": {
     "iopub.execute_input": "2022-12-21T15:37:27.039837Z",
     "iopub.status.busy": "2022-12-21T15:37:27.039468Z",
     "iopub.status.idle": "2022-12-21T15:37:27.049383Z",
     "shell.execute_reply": "2022-12-21T15:37:27.048026Z"
    },
    "papermill": {
     "duration": 0.02845,
     "end_time": "2022-12-21T15:37:27.051917",
     "exception": false,
     "start_time": "2022-12-21T15:37:27.023467",
     "status": "completed"
    },
    "tags": []
   },
   "outputs": [
    {
     "name": "stdout",
     "output_type": "stream",
     "text": [
      "train set: 0.851\n",
      "validation set: 0.875\n"
     ]
    }
   ],
   "source": [
    "#Desicion tree model\n",
    "tree_s = DecisionTreeClassifier(max_depth=2,random_state=42)\n",
    "tree_s.fit(X_train_s, y_train)\n",
    "print(\"train set: {:.3f}\".format(tree_s.score(X_train_s, y_train)))\n",
    "print(\"validation set: {:.3f}\".format(tree_s.score(X_valid_s, y_valid)))"
   ]
  },
  {
   "cell_type": "code",
   "execution_count": 32,
   "id": "507c268e",
   "metadata": {
    "execution": {
     "iopub.execute_input": "2022-12-21T15:37:27.083699Z",
     "iopub.status.busy": "2022-12-21T15:37:27.083367Z",
     "iopub.status.idle": "2022-12-21T15:37:27.305552Z",
     "shell.execute_reply": "2022-12-21T15:37:27.304285Z"
    },
    "papermill": {
     "duration": 0.2401,
     "end_time": "2022-12-21T15:37:27.307771",
     "exception": false,
     "start_time": "2022-12-21T15:37:27.067671",
     "status": "completed"
    },
    "tags": []
   },
   "outputs": [
    {
     "name": "stdout",
     "output_type": "stream",
     "text": [
      "Train score: 1.00\n",
      "Validation score: 0.88\n"
     ]
    }
   ],
   "source": [
    "#Ramdon forest model\n",
    "rfs=RandomForestClassifier().fit(X_train_s, y_train)\n",
    "#rfs.predict(X_test_s)\n",
    "print(\"Train score: {:.2f}\".format(rfs.score(X_train_s, y_train)))\n",
    "print(\"Validation score: {:.2f}\".format(rfs.score(X_valid_s, y_valid)))"
   ]
  },
  {
   "cell_type": "code",
   "execution_count": 33,
   "id": "80b433d5",
   "metadata": {
    "execution": {
     "iopub.execute_input": "2022-12-21T15:37:27.341520Z",
     "iopub.status.busy": "2022-12-21T15:37:27.340185Z",
     "iopub.status.idle": "2022-12-21T15:37:27.384387Z",
     "shell.execute_reply": "2022-12-21T15:37:27.383095Z"
    },
    "papermill": {
     "duration": 0.063174,
     "end_time": "2022-12-21T15:37:27.386598",
     "exception": false,
     "start_time": "2022-12-21T15:37:27.323424",
     "status": "completed"
    },
    "tags": []
   },
   "outputs": [
    {
     "name": "stdout",
     "output_type": "stream",
     "text": [
      "train score: 0.87\n",
      "validation score: 0.85\n"
     ]
    }
   ],
   "source": [
    "#logistic regression model\n",
    "logreg_s = LogisticRegression()\n",
    "logreg_s.fit(X_train_s, y_train)\n",
    "print(\"train score: {:.2f}\".format(logreg_s.score(X_train_s, y_train)))\n",
    "print(\"validation score: {:.2f}\".format(logreg_s.score(X_valid_s, y_valid)))"
   ]
  },
  {
   "cell_type": "code",
   "execution_count": 34,
   "id": "2f011633",
   "metadata": {
    "execution": {
     "iopub.execute_input": "2022-12-21T15:37:27.429411Z",
     "iopub.status.busy": "2022-12-21T15:37:27.429015Z",
     "iopub.status.idle": "2022-12-21T15:37:27.842647Z",
     "shell.execute_reply": "2022-12-21T15:37:27.841953Z"
    },
    "papermill": {
     "duration": 0.437629,
     "end_time": "2022-12-21T15:37:27.844483",
     "exception": false,
     "start_time": "2022-12-21T15:37:27.406854",
     "status": "completed"
    },
    "tags": []
   },
   "outputs": [
    {
     "name": "stdout",
     "output_type": "stream",
     "text": [
      "Train score: 1.00\n",
      "Validation score: 0.84\n"
     ]
    }
   ],
   "source": [
    "#xgboost classifier\n",
    "from xgboost import XGBClassifier\n",
    "xgb = XGBClassifier(n_estimators = 100)\n",
    "xgb.fit(X_train_s, y_train)\n",
    "print(\"Train score: {:.2f}\".format(xgb.score(X_train_s, y_train)))\n",
    "print(\"Validation score: {:.2f}\".format(xgb.score(X_valid_s, y_valid)))"
   ]
  },
  {
   "cell_type": "code",
   "execution_count": 35,
   "id": "97ca1770",
   "metadata": {
    "execution": {
     "iopub.execute_input": "2022-12-21T15:37:27.876522Z",
     "iopub.status.busy": "2022-12-21T15:37:27.875709Z",
     "iopub.status.idle": "2022-12-21T15:37:27.879974Z",
     "shell.execute_reply": "2022-12-21T15:37:27.879416Z"
    },
    "papermill": {
     "duration": 0.021948,
     "end_time": "2022-12-21T15:37:27.881629",
     "exception": false,
     "start_time": "2022-12-21T15:37:27.859681",
     "status": "completed"
    },
    "tags": []
   },
   "outputs": [],
   "source": [
    "y_test = pd.DataFrame(testData2['EmployeeNumber'])"
   ]
  },
  {
   "cell_type": "code",
   "execution_count": 36,
   "id": "a5cb548b",
   "metadata": {
    "execution": {
     "iopub.execute_input": "2022-12-21T15:37:27.914048Z",
     "iopub.status.busy": "2022-12-21T15:37:27.912940Z",
     "iopub.status.idle": "2022-12-21T15:37:27.926519Z",
     "shell.execute_reply": "2022-12-21T15:37:27.925733Z"
    },
    "papermill": {
     "duration": 0.031002,
     "end_time": "2022-12-21T15:37:27.928216",
     "exception": false,
     "start_time": "2022-12-21T15:37:27.897214",
     "status": "completed"
    },
    "tags": []
   },
   "outputs": [
    {
     "data": {
      "text/html": [
       "<div>\n",
       "<style scoped>\n",
       "    .dataframe tbody tr th:only-of-type {\n",
       "        vertical-align: middle;\n",
       "    }\n",
       "\n",
       "    .dataframe tbody tr th {\n",
       "        vertical-align: top;\n",
       "    }\n",
       "\n",
       "    .dataframe thead th {\n",
       "        text-align: right;\n",
       "    }\n",
       "</style>\n",
       "<table border=\"1\" class=\"dataframe\">\n",
       "  <thead>\n",
       "    <tr style=\"text-align: right;\">\n",
       "      <th></th>\n",
       "      <th>EmployeeNumber</th>\n",
       "      <th>Attrition</th>\n",
       "    </tr>\n",
       "  </thead>\n",
       "  <tbody>\n",
       "    <tr>\n",
       "      <th>0</th>\n",
       "      <td>1</td>\n",
       "      <td>0</td>\n",
       "    </tr>\n",
       "    <tr>\n",
       "      <th>1</th>\n",
       "      <td>3</td>\n",
       "      <td>0</td>\n",
       "    </tr>\n",
       "    <tr>\n",
       "      <th>2</th>\n",
       "      <td>12</td>\n",
       "      <td>0</td>\n",
       "    </tr>\n",
       "    <tr>\n",
       "      <th>3</th>\n",
       "      <td>14</td>\n",
       "      <td>0</td>\n",
       "    </tr>\n",
       "    <tr>\n",
       "      <th>4</th>\n",
       "      <td>18</td>\n",
       "      <td>1</td>\n",
       "    </tr>\n",
       "    <tr>\n",
       "      <th>...</th>\n",
       "      <td>...</td>\n",
       "      <td>...</td>\n",
       "    </tr>\n",
       "    <tr>\n",
       "      <th>362</th>\n",
       "      <td>1437</td>\n",
       "      <td>0</td>\n",
       "    </tr>\n",
       "    <tr>\n",
       "      <th>363</th>\n",
       "      <td>1440</td>\n",
       "      <td>0</td>\n",
       "    </tr>\n",
       "    <tr>\n",
       "      <th>364</th>\n",
       "      <td>1441</td>\n",
       "      <td>0</td>\n",
       "    </tr>\n",
       "    <tr>\n",
       "      <th>365</th>\n",
       "      <td>1459</td>\n",
       "      <td>0</td>\n",
       "    </tr>\n",
       "    <tr>\n",
       "      <th>366</th>\n",
       "      <td>1462</td>\n",
       "      <td>0</td>\n",
       "    </tr>\n",
       "  </tbody>\n",
       "</table>\n",
       "<p>367 rows × 2 columns</p>\n",
       "</div>"
      ],
      "text/plain": [
       "     EmployeeNumber  Attrition\n",
       "0                 1          0\n",
       "1                 3          0\n",
       "2                12          0\n",
       "3                14          0\n",
       "4                18          1\n",
       "..              ...        ...\n",
       "362            1437          0\n",
       "363            1440          0\n",
       "364            1441          0\n",
       "365            1459          0\n",
       "366            1462          0\n",
       "\n",
       "[367 rows x 2 columns]"
      ]
     },
     "execution_count": 36,
     "metadata": {},
     "output_type": "execute_result"
    }
   ],
   "source": [
    "y_test['Attrition']=tree_s.predict(X_test_s)\n",
    "y_test"
   ]
  },
  {
   "cell_type": "code",
   "execution_count": 37,
   "id": "91164041",
   "metadata": {
    "execution": {
     "iopub.execute_input": "2022-12-21T15:37:27.961089Z",
     "iopub.status.busy": "2022-12-21T15:37:27.959806Z",
     "iopub.status.idle": "2022-12-21T15:37:27.973178Z",
     "shell.execute_reply": "2022-12-21T15:37:27.972505Z"
    },
    "papermill": {
     "duration": 0.031029,
     "end_time": "2022-12-21T15:37:27.974771",
     "exception": false,
     "start_time": "2022-12-21T15:37:27.943742",
     "status": "completed"
    },
    "tags": []
   },
   "outputs": [
    {
     "data": {
      "text/html": [
       "<div>\n",
       "<style scoped>\n",
       "    .dataframe tbody tr th:only-of-type {\n",
       "        vertical-align: middle;\n",
       "    }\n",
       "\n",
       "    .dataframe tbody tr th {\n",
       "        vertical-align: top;\n",
       "    }\n",
       "\n",
       "    .dataframe thead th {\n",
       "        text-align: right;\n",
       "    }\n",
       "</style>\n",
       "<table border=\"1\" class=\"dataframe\">\n",
       "  <thead>\n",
       "    <tr style=\"text-align: right;\">\n",
       "      <th></th>\n",
       "      <th>EmployeeNumber</th>\n",
       "      <th>Attrition</th>\n",
       "    </tr>\n",
       "  </thead>\n",
       "  <tbody>\n",
       "    <tr>\n",
       "      <th>0</th>\n",
       "      <td>1</td>\n",
       "      <td>No</td>\n",
       "    </tr>\n",
       "    <tr>\n",
       "      <th>1</th>\n",
       "      <td>3</td>\n",
       "      <td>No</td>\n",
       "    </tr>\n",
       "    <tr>\n",
       "      <th>2</th>\n",
       "      <td>12</td>\n",
       "      <td>No</td>\n",
       "    </tr>\n",
       "    <tr>\n",
       "      <th>3</th>\n",
       "      <td>14</td>\n",
       "      <td>No</td>\n",
       "    </tr>\n",
       "    <tr>\n",
       "      <th>4</th>\n",
       "      <td>18</td>\n",
       "      <td>Yes</td>\n",
       "    </tr>\n",
       "    <tr>\n",
       "      <th>...</th>\n",
       "      <td>...</td>\n",
       "      <td>...</td>\n",
       "    </tr>\n",
       "    <tr>\n",
       "      <th>362</th>\n",
       "      <td>1437</td>\n",
       "      <td>No</td>\n",
       "    </tr>\n",
       "    <tr>\n",
       "      <th>363</th>\n",
       "      <td>1440</td>\n",
       "      <td>No</td>\n",
       "    </tr>\n",
       "    <tr>\n",
       "      <th>364</th>\n",
       "      <td>1441</td>\n",
       "      <td>No</td>\n",
       "    </tr>\n",
       "    <tr>\n",
       "      <th>365</th>\n",
       "      <td>1459</td>\n",
       "      <td>No</td>\n",
       "    </tr>\n",
       "    <tr>\n",
       "      <th>366</th>\n",
       "      <td>1462</td>\n",
       "      <td>No</td>\n",
       "    </tr>\n",
       "  </tbody>\n",
       "</table>\n",
       "<p>367 rows × 2 columns</p>\n",
       "</div>"
      ],
      "text/plain": [
       "     EmployeeNumber Attrition\n",
       "0                 1        No\n",
       "1                 3        No\n",
       "2                12        No\n",
       "3                14        No\n",
       "4                18       Yes\n",
       "..              ...       ...\n",
       "362            1437        No\n",
       "363            1440        No\n",
       "364            1441        No\n",
       "365            1459        No\n",
       "366            1462        No\n",
       "\n",
       "[367 rows x 2 columns]"
      ]
     },
     "execution_count": 37,
     "metadata": {},
     "output_type": "execute_result"
    }
   ],
   "source": [
    "y_test['Attrition'].replace(1, 'Yes',inplace=True)\n",
    "y_test['Attrition'].replace(0, 'No',inplace=True)\n",
    "\n",
    "y_test"
   ]
  },
  {
   "cell_type": "code",
   "execution_count": 38,
   "id": "edda5ff7",
   "metadata": {
    "execution": {
     "iopub.execute_input": "2022-12-21T15:37:28.007182Z",
     "iopub.status.busy": "2022-12-21T15:37:28.006589Z",
     "iopub.status.idle": "2022-12-21T15:37:28.013767Z",
     "shell.execute_reply": "2022-12-21T15:37:28.012753Z"
    },
    "papermill": {
     "duration": 0.025262,
     "end_time": "2022-12-21T15:37:28.015540",
     "exception": false,
     "start_time": "2022-12-21T15:37:27.990278",
     "status": "completed"
    },
    "tags": []
   },
   "outputs": [],
   "source": [
    "y_test.to_csv('submission.csv', index = False)"
   ]
  }
 ],
 "metadata": {
  "kernelspec": {
   "display_name": "Python 3 (ipykernel)",
   "language": "python",
   "name": "python3"
  },
  "language_info": {
   "codemirror_mode": {
    "name": "ipython",
    "version": 3
   },
   "file_extension": ".py",
   "mimetype": "text/x-python",
   "name": "python",
   "nbconvert_exporter": "python",
   "pygments_lexer": "ipython3",
   "version": "3.11.5"
  },
  "papermill": {
   "default_parameters": {},
   "duration": 19.334651,
   "end_time": "2022-12-21T15:37:28.850444",
   "environment_variables": {},
   "exception": null,
   "input_path": "__notebook__.ipynb",
   "output_path": "__notebook__.ipynb",
   "parameters": {},
   "start_time": "2022-12-21T15:37:09.515793",
   "version": "2.3.4"
  }
 },
 "nbformat": 4,
 "nbformat_minor": 5
}
